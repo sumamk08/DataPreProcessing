{
 "cells": [
  {
   "cell_type": "code",
   "execution_count": 40,
   "metadata": {},
   "outputs": [],
   "source": [
    "# Import data\n",
    "\n",
    "import pandas as pd\n",
    "import numpy as np\n",
    "import imblearn\n",
    "\n",
    "from imblearn.under_sampling import RandomUnderSampler\n",
    "from imblearn.over_sampling import RandomOverSampler\n",
    "from imblearn.under_sampling import NearMiss\n",
    "from imblearn.under_sampling import TomekLinks\n",
    "from imblearn.over_sampling import SMOTE\n",
    "\n",
    "import matplotlib.pyplot\n",
    "import seaborn as sns\n",
    "from IPython.display import Image"
   ]
  },
  {
   "cell_type": "code",
   "execution_count": 26,
   "metadata": {},
   "outputs": [
    {
     "data": {
      "text/html": [
       "<div>\n",
       "<style scoped>\n",
       "    .dataframe tbody tr th:only-of-type {\n",
       "        vertical-align: middle;\n",
       "    }\n",
       "\n",
       "    .dataframe tbody tr th {\n",
       "        vertical-align: top;\n",
       "    }\n",
       "\n",
       "    .dataframe thead th {\n",
       "        text-align: right;\n",
       "    }\n",
       "</style>\n",
       "<table border=\"1\" class=\"dataframe\">\n",
       "  <thead>\n",
       "    <tr style=\"text-align: right;\">\n",
       "      <th></th>\n",
       "      <th>PassengerId</th>\n",
       "      <th>Survived</th>\n",
       "      <th>Pclass</th>\n",
       "      <th>Name</th>\n",
       "      <th>Sex</th>\n",
       "      <th>Age</th>\n",
       "      <th>SibSp</th>\n",
       "      <th>Parch</th>\n",
       "      <th>Ticket</th>\n",
       "      <th>Fare</th>\n",
       "      <th>Cabin</th>\n",
       "      <th>Embarked</th>\n",
       "    </tr>\n",
       "  </thead>\n",
       "  <tbody>\n",
       "    <tr>\n",
       "      <th>0</th>\n",
       "      <td>1</td>\n",
       "      <td>0</td>\n",
       "      <td>3</td>\n",
       "      <td>Braund, Mr. Owen Harris</td>\n",
       "      <td>male</td>\n",
       "      <td>22.0</td>\n",
       "      <td>1</td>\n",
       "      <td>0</td>\n",
       "      <td>A/5 21171</td>\n",
       "      <td>7.2500</td>\n",
       "      <td>NaN</td>\n",
       "      <td>S</td>\n",
       "    </tr>\n",
       "    <tr>\n",
       "      <th>1</th>\n",
       "      <td>2</td>\n",
       "      <td>1</td>\n",
       "      <td>1</td>\n",
       "      <td>Cumings, Mrs. John Bradley (Florence Briggs Th...</td>\n",
       "      <td>female</td>\n",
       "      <td>38.0</td>\n",
       "      <td>1</td>\n",
       "      <td>0</td>\n",
       "      <td>PC 17599</td>\n",
       "      <td>71.2833</td>\n",
       "      <td>C85</td>\n",
       "      <td>C</td>\n",
       "    </tr>\n",
       "    <tr>\n",
       "      <th>2</th>\n",
       "      <td>3</td>\n",
       "      <td>1</td>\n",
       "      <td>3</td>\n",
       "      <td>Heikkinen, Miss. Laina</td>\n",
       "      <td>female</td>\n",
       "      <td>26.0</td>\n",
       "      <td>0</td>\n",
       "      <td>0</td>\n",
       "      <td>STON/O2. 3101282</td>\n",
       "      <td>7.9250</td>\n",
       "      <td>NaN</td>\n",
       "      <td>S</td>\n",
       "    </tr>\n",
       "    <tr>\n",
       "      <th>3</th>\n",
       "      <td>4</td>\n",
       "      <td>1</td>\n",
       "      <td>1</td>\n",
       "      <td>Futrelle, Mrs. Jacques Heath (Lily May Peel)</td>\n",
       "      <td>female</td>\n",
       "      <td>35.0</td>\n",
       "      <td>1</td>\n",
       "      <td>0</td>\n",
       "      <td>113803</td>\n",
       "      <td>53.1000</td>\n",
       "      <td>C123</td>\n",
       "      <td>S</td>\n",
       "    </tr>\n",
       "    <tr>\n",
       "      <th>4</th>\n",
       "      <td>5</td>\n",
       "      <td>0</td>\n",
       "      <td>3</td>\n",
       "      <td>Allen, Mr. William Henry</td>\n",
       "      <td>male</td>\n",
       "      <td>35.0</td>\n",
       "      <td>0</td>\n",
       "      <td>0</td>\n",
       "      <td>373450</td>\n",
       "      <td>8.0500</td>\n",
       "      <td>NaN</td>\n",
       "      <td>S</td>\n",
       "    </tr>\n",
       "  </tbody>\n",
       "</table>\n",
       "</div>"
      ],
      "text/plain": [
       "   PassengerId  Survived  Pclass  \\\n",
       "0            1         0       3   \n",
       "1            2         1       1   \n",
       "2            3         1       3   \n",
       "3            4         1       1   \n",
       "4            5         0       3   \n",
       "\n",
       "                                                Name     Sex   Age  SibSp  \\\n",
       "0                            Braund, Mr. Owen Harris    male  22.0      1   \n",
       "1  Cumings, Mrs. John Bradley (Florence Briggs Th...  female  38.0      1   \n",
       "2                             Heikkinen, Miss. Laina  female  26.0      0   \n",
       "3       Futrelle, Mrs. Jacques Heath (Lily May Peel)  female  35.0      1   \n",
       "4                           Allen, Mr. William Henry    male  35.0      0   \n",
       "\n",
       "   Parch            Ticket     Fare Cabin Embarked  \n",
       "0      0         A/5 21171   7.2500   NaN        S  \n",
       "1      0          PC 17599  71.2833   C85        C  \n",
       "2      0  STON/O2. 3101282   7.9250   NaN        S  \n",
       "3      0            113803  53.1000  C123        S  \n",
       "4      0            373450   8.0500   NaN        S  "
      ]
     },
     "execution_count": 26,
     "metadata": {},
     "output_type": "execute_result"
    }
   ],
   "source": [
    "data = pd.read_csv('titanic.csv')\n",
    "data.head()"
   ]
  },
  {
   "cell_type": "code",
   "execution_count": 7,
   "metadata": {},
   "outputs": [],
   "source": [
    "X = data.drop(['Survived'], axis = 'columns')\n",
    "y = data['Survived']"
   ]
  },
  {
   "cell_type": "markdown",
   "metadata": {},
   "source": [
    "## Class Imbalance appear in many domains, including:\n",
    "\n",
    "* Fraud detection\n",
    "* Spam filtering\n",
    "* Disease screening\n",
    "* SaaS subscription churn\n",
    "* Advertising click-throughs"
   ]
  },
  {
   "cell_type": "markdown",
   "metadata": {},
   "source": [
    "# 1. Random Under-Sampling\n",
    "\n",
    "* Undersampling can be defined as removing some observations of the majority class. This is done until the majority and minority class is balanced out.\n",
    "\n",
    "* Undersampling can be a good choice when you have a ton of data -think millions of rows. But a drawback to undersampling is that we are removing information that may be valuable.\n",
    "\n",
    "* It can discard potentially useful information which could be important for building rule classifiers.\n",
    "* The sample chosen by random under-sampling may be a biased sample. And it will not be an accurate representation of the population. Thereby, resulting in inaccurate results with the actual test data set.\n",
    "\n"
   ]
  },
  {
   "cell_type": "code",
   "execution_count": 11,
   "metadata": {},
   "outputs": [
    {
     "name": "stdout",
     "output_type": "stream",
     "text": [
      "Original 0    549\n",
      "1    342\n",
      "Name: Survived, dtype: int64\n",
      "Sample 1    342\n",
      "0    342\n",
      "Name: Survived, dtype: int64\n"
     ]
    }
   ],
   "source": [
    "random_under_sampler = RandomUnderSampler(random_state = 42, replacement = True) \n",
    "X_rus, y_rus = random_under_sampler.fit_resample(X, y)\n",
    "print('Original', y.value_counts())\n",
    "print('Sample', y_rus.value_counts())"
   ]
  },
  {
   "cell_type": "markdown",
   "metadata": {},
   "source": [
    "# 2. Random Over-Sampling\n",
    "\n",
    "* Oversampling can be defined as adding more copies to the minority class. Oversampling can be a good choice when you don’t have a ton of data to work with.\n",
    "\n",
    "* A con to consider when undersampling is that it can cause overfitting and poor generalization to your test set.\n",
    "* It increases the likelihood of overfitting since it replicates the minority class events."
   ]
  },
  {
   "cell_type": "code",
   "execution_count": 13,
   "metadata": {},
   "outputs": [
    {
     "name": "stdout",
     "output_type": "stream",
     "text": [
      "Original 0    549\n",
      "1    342\n",
      "Name: Survived, dtype: int64\n",
      "Sample 1    549\n",
      "0    549\n",
      "Name: Survived, dtype: int64\n"
     ]
    }
   ],
   "source": [
    "ros = RandomOverSampler(random_state = 42)\n",
    "x_ros, y_ros = ros.fit_resample(X, y)\n",
    "print('Original', y.value_counts())\n",
    "print('Sample', y_ros.value_counts())"
   ]
  },
  {
   "cell_type": "markdown",
   "metadata": {},
   "source": [
    "# 3. Under-sampling: Tomek links\n",
    "Tomek links are pairs of very close instances but of opposite classes. Removing the instances of the majority class of each pair increases the space between the two classes, facilitating the classification process.\n",
    "\n",
    "Tomek’s link exists if the two samples are the nearest neighbors of each other"
   ]
  },
  {
   "cell_type": "code",
   "execution_count": 17,
   "metadata": {},
   "outputs": [
    {
     "data": {
      "image/png": "iVBORw0KGgoAAAANSUhEUgAAArwAAADHCAIAAAB0ohc/AACAAElEQVR42ux9B3hUVfr+ObdNb+m9d0JCCIQOoUkRUJqVXbCtZV372v+66q67yk9d61oQG4oFUUGa9N4hBUjvvU2m13vv+T+ZC+OQmYSUSQjxvg+PT5xy75lz3vud93znO99HIIQADx48ePDgwYPHlYDxXcCDBw8ePHjw4EUDDx48ePDgwcNrIPgu4MHjmobRShusNACAxDGlmMQg5PuEx/AGzbAtBisGIQahj4TCMZ7zvGjoE0w25lSl+kBxi5VmAQA4BkeEyGelBKrEFD/SPIYltuY37LrQpDHbOh5mDBsdqVqeGeYrFfA9w2O4Iq9G8+3J6nqtBYMAgzA+QHrbuMhwHzHfM7xo6DV+zat/e1dxRauRZREAAEKoEJENWssD2bEEzm/EXHtoaWl55ZVXWlpaAAAIIRzHIYQzZ8684447+nxNu92+e/dukiRnzpzZ6S2NRrNly5apU6daLJaNGzc+9dRT7l+32Wxr16697777hkL/bM6tf3VrQWWrkftfhNBv5xu1JtuDM+IlAt6JyGMYok5jfuCb06XNBghgB+cBonAsp0bz+Z3jBARv5HnR0BsUNOjWHCyvbDUSGIQOiYAQMljp/+4qSgiUzU0N6uf1T1Wq395VXNioxzDIsCjKV/LXGXFT4v0IjGfqQEEikdx0000SiWTLli2VlZV33nknhFAs7teSAiFUUlKi1WrdRQNC6MiRI/Hx8QKBID8/3+PXbTbb+vXrh4JoqG4zfXKwvEZtIjuk1EX3LIPQO7tLEgJlN4wKxfrnsy1u0v93V/Hx8jYCx1gWBcqF906NWZAeAvntDx5XD3esPV7ZaqJwzMlDhNChktY3fyt6Zn5yPy/erLe8+VvRkbI2q50FAEgF+M1ZEXdNjuG3P4anaMip0ZyqVEsFhJNMEEIMIKOV+eFU9bhoH5Wk75sUbUbrPV+eUhttzhOqTVpLfp1my8NTY/0kvBkdIIhEokmTJkEIT58+3djYmJmZSVEdg8iyrNlspiiKJElXFwJN0yKRCACg1WoVCoXzLZZlTSaTWCzGHAoPwzAcxz3ekWVZm82WlZX15ZdfOl+0WCw4jnP3QgjV1ta6qw2tVqtUKgezc/YXNxfUazEIXOmHQcgA9O6e0rkjg0UY3ueL0yy687MTVWoT/N2eWu/84uSeJ6aPDFXwzORxVfDtyerSFmMnzjv+Rp8fruinaDDbmLd2Fq89VCmicM7OQwhf316oM9NPzEnkO3/IiYbyFsPLm8//dqHJamdZhCbE+j4zP3lKvH8Pv26xM5Wtxg7xefn8DSEkMJhfpzVY6f6IhtXbizQm2yWCclcGOjP94NdnNj04mSK8KRoQQh8fKH93T0m9xgwAkAnIe6fF3J8d15/2X6PwqMZKS0vvuusuu93eMS6rV0+ePHnXrl0ffPABTdOnT59etWqVwWDIy8s7ffr0Tz/9NHPmzK1bt7788stCodBoNH799dcxMTHOK69cuTI+Pv7ZZ5/FXNxFJEnm5eWtWrXqzJkza9as+f777xmGOX369Jw5c7766ivnx7Zs2bJmzZoPP/zw2LFjzz33XGhoqM1me/zxxxcsWNCTn1bbbnptW+GPp2utDAsByIhQ3jstdllmeM87p05j1pjtYqrzI0zi2MlKNcP2K//Kw+vPVqlNnWIqhSS+4pNjh5+ZKfXq3gfLoi359c//dK5abYIQSAXE8jHhz12f4iPhQ5GGFeo15n9sOr/zQqPOTGMYCFOJ/zYj/tasCBHVU3V7vFzNssjdLEAIGYSKGnWJQfI+N29vUfN7e0o51jlvYaXZn87WLhsTFuUr8WJXMCw6Vt728ubzZ6raGYSkFDEp3v/VxSOj/SVDfxyvvmsdIVTeYnjku7ObcusJDEqFhFxE5tRoVqw5vr+oucezC+jGg0QR/XIvVbQaD5e20gxyuyx2rLztaHmrd3vjzZ3FL20+rzXZZUJSJiQRQP/aWvDGb0UmG83bHZvN9uSTT/79738/evToxx9//PTTTxuNRoIg8vPzN27cmJeXd+zYsZkzZ+7du/djB2pqatatW7dmzZp9+/a99dZbS5cuJQgCQmg0Gl977bXU1NTnnnsOu3yDCSFEEAS3CaLVagEAu3fv1mg0O3bsMBqNHUKbIE6fPr1hw4bVq1cHBga+9NJLn3766Y4dO958882ioiKGYa44xLXtpmc35n91rIrAoVRASATE+XrdsxvzvztZ3fOuwDGIQeienA0hJCT75U4tbzHsKWxyP4WBQdhqtH15pNK7Y/rT2do/fXqizWiTizoIDwBYe6ji8e9z1EYbT/hhg3aTbeXa45ty6mgWSYWEiMRb9NZHvz37zYlqmmF7eBEhiYEumQ3J/gWuvba9UC7srIahQ+tsOFXjXSN/ukp91+cnc2o0Igrv4DwE+4qaF39wqFFn4UVDD3oQgH/+euFQSatMSDr1HenYRv3nlgsak70nF6FwLFghJHAPNpRmUUqwXNyPtVGN2mixMx63IIQkdrSszYu9sf1c4ycHyjvmA+z3TRY/qeD9vSV7C1t408OybFFR0cKFCwEAI0eOrKur4ybyhIQETg2EhYXFxsYCAEJCQqxWa3Nzc1NTU0lJyfr16w0Gg0ajMZlMDMP89NNPxcXFt956K/Q07zohEokyMjK4vwMCAnQ6HYZhWq129erVGRkZcXFxAIA77rjj448/fvXVV+vq6latWoXjePdZVi129qP9ZVvy6xWiywivt9BrD1WUtRh62BWBMqFM6IHVNIsyI1X9kck5NZqufgEOwalKtXdXn89uzFeISNyF8HIRuSmn/rVtBTzhhw3e2V1S1KinCIwToxBCHIMyEfmvXy+UtRp7mJh4TKTK44lihJBUgAcrRP1p4dmqdvd4eQih2cbUtpu92BWtBttD689qzDahIxyJuwuJQ7XR9uIv53jRcGVUthp/yanjVhidnAeNWuu+HjgbEEIQwnExvulhyk5eWZZF/jLBktGhShHZ5xbKhCSJY8jzrYG/zJvH23670Ki32N0fCzFFvL6dt6GAi0hw/k2SJGduuBgF5AC31qdpGuswUFCv12s0GoZhWlpa/vnPf9I0bbfbs7KywsLCvvvuO4vF0k1ICo7jQqHQ+TenMAQCwbx5806fPn3mzBkAwKpVq2677TahUPjdd9+98847Wq22+xgXncX+9fFqEem+rQALGvVnq9t72A/ZSQGpIQrk+NW/Ex4hEYn/ZWpsf1ZdKjHVTXSvn1cJv+F0rd3TTopUSHx3srqddzYMC9S2m3Kq22m3nQUcgxqzbU9BUw+vsyAtZHSEknVTGAyLbhsX4YxF6Bv8pBTryW+HY1BE4l7sjV0FTcVNegGBd1InCIGCBl1Rk54XDVdAncbcVToaK820GaxXvAJHxLgA6cs3po4MU3AzB6cYwlSiV25InZ4U0P2CsnvEBcjkXWgOhkVZUb5e7A2aQSzysJePY/BCg463PjiOJycnb968GQCQm5sbFBQklUqBy8QJL8W1cCPu5+eXkJCQlZW1YsWK9PT0vXv3yuVykiQTEhKeeuqpTZs2HTlypHtidHoXQhgREbFy5coxY8asX7+epul77703NDT0scceu/vuu6urq9vbrzDr0yxq1lncPQEQQoPFrrf0dBMqwkf80g2pmRGq349OsChEIXxh4Yh5qcH98TSMjfZRiaiu/IL9P4jkigaNuev+hw1aM8/5YQCt2W6w0h7NPIFjNWpTT0xzh14n8f9bPuqmMeFWmnF5PNGTc5MeyI7rKgqqh5ibGmynPWyUyEVkUrDMi71R3WakPGp6CKw026q3DvHRvPqBkHIR2RVjCBwTUT1qIUIIg3BctO9Hfxrz5dGqM1XtCKAQpejuyTEZEUpu/ugzn2RCYm5qUGmz3n55WIPFztw+PtK7fIIQeGwmi0CMn/QPa3RstovnVkiSfPnllx955JHPPvvMYDA8//zzEonElQbcJsUlPxMbERGxbNmyhx9+2M/Pr6Sk5Pnnn2cdYBhGLBbfe++9b7/9dnZ2NvcV7nUIIRdlyV3QGaPgdDlwro5Vq1bdeeedmzZtWrhw4eLFi7OysnQ63ZIlS6Kioq7wyGEwQC6w06jTkUiHi5WQCXpKeAhherjyy7vG/XimduOZWhyDiYGyP0+MSgqS9/OEmFRAPHpdwuPf53Z63c6wC9KCZyQFenFkAxVCDELWk26AEPTT4cxjiEAmIKUCEngy9CyLgpUi2CPb2GHGo/wkLywckRqq2JRbTzOsVECsmhQ9LcFfSOL9MfIAgAdnxB8ubW0z2jo9PgmBssUZYV7sjRCVuKswZSGBD/34X3jVq1wyLEp/aYfGZO80VCxCYSrxe7eNzoxU9dyMcl4G50/iDuf0h0zcdxmEntqQ94NLOIzFziwZHfra0vQO0dM/srpi9fbC/+0voxm20wXNNvqpecmPX/cHPfnDsmyHLnRsNyCErFarXq+XSCQikQhCyL3LBROwLMt9zPVFq9Wq1WpVKpXz2CT3FicguH0H7nXu6x20ZBiCIJwX4fY7uD+4t7gPc19kGKatrU2pVAoEgivyTWOy3fn5iaNlauryXDQMi8JVorduHjU+1q/nzOSeFO4hhhdFJ3Ssv/pISedlD5e2/vnTY3bm4v+abPTjsxOfmJNI4JgXCX+4tPXOz09Y7KybSkaRvuJDT83kZ9zh8Pwi9NA3Z388U0u55V/Smu07H502JkrVQ0Zx3HNy3itG3nnl/Drd33/Iya/Tkpcy/YyP8V2zcqy8H7vb7ihvMY79529Stx15hkVjolQb7p9EDO20EPg//vGPqyxbAAhRiLada4SX5CT3uoDAZ6UErpoU3eM1OnR6p7FL/5wv9mPp30FHDIDrRgQlB8tNNjo+QBoXILtjYvTj1yVJhYQXDSgAIDlYdqC4pcVgc16W+0MmIN64OcNj4NsfAR1jiv2ezoUkSYlEwimAiyPumOldP+Z8kfu8VCrlxIHHz3MeBQih8zOuH3A6GDx+l/uWVColCMJ1f6QrCEk8wkeyKaeOdYyu64evTwu5Y3JMrwh/sSWX2H7xRdh3SjpZF+ErWTw6TGe2hyrF8YGyZ69PXjUpCr/0270yrNxdDhQ1N2gt7GWEBzgGv7lnQoBcyM+41zo4NzCBwzNV7XqL3TUpE4vAvNSgP0+MEvQ4aOD3p9t7Rt555UC5cG5qMFfPIspP8kB23IuLUvvvw+jUGyoxySJwvEINL2+2Skzdlx2bHqb07pwyDD0NHDaeqf2/HYVaM80pSIWIXDo67K8z4sUUPkR60GMzvNs27mp17aanfszLr9XauZNIjuTq/7hhREa4su/rRx7dgqbpU6dOURQ1YsQIiqIGrpOd/rDt5xrf3FlUpzFzbjGZkJybGvTwzHgfqWAom4yBaFu7yfbcxvyj5W0WO8OZUX8Z9eritIlxfkPcevLoFX7Nq393d0m9xsywCEBA4djEWL/nFqSEKkVDmd4DQUKWRat3FH5zorrDyCOAYdBXQt07Lfa2cZHXwBLuqosG55Ccq9MeL2+zM4hFaGyUz9honwEasCGuyrkw2h9OV7cZbNy5ietGBAUr+CXXwIqGbdu2/frrr7NmzRo/fnxoaCg2YNnBnZQuaNAdKWvlAmUSg2TTEwP+sIQHAGw711DuSPYnIvEZyQERPhJeMQynUeaW8vUa866CJpOVgRBE+UlmJAU4NgLQH2o55Fw5HChpKWzQswgJSTw70T/aT3pNdMWQ8DQMmr67tsyo+2PH29CBQ2Nj48cffywWiyUSCXfgQiaTDbQN5Tn/R37S+YHmOX8tdsVQ2Z7gwePqgmGYHTt26PX6kSNHnjhxQqfTzZw5c8SIEXzP8ODBg4cTfIVGHjyAMwNEe3u7QqG45ZZbxo8f/8MPP6xbt47LOMmDBw8ePHjRwIMHcO4XREZGcgWxBALB2LFjn3rqKavV+sorr5w/f553yPHgwYPH8NmeQAjRLLLYGeevIXBIERiBXTVVZLUzNoZ1bY+AwPm67EOZQhDCnJycAwcOrFy50llZOycn57vvvpswYcKMGTMkkqFSBh0hZGeQlf6d8DgGBQRG4NjVag/DIgvNspfS1lzd9vAYlrAzLFcG+eKSF4NCEsOxq2ZVO9rjwnnMwXlyuHN+mIgGrdn+6aHyD/eVNWjNjtJ/YHyM733TYpdkhl2V9rSbbK9uKfj2RLXGbMdgB7emxvvfNz3uhlGhvGoY4li9evXUqVOzsrKcsYpqtfrbb7/VaDRLliwJCwvjElf3Cja7VWvUGi0Ghr2YXxKDmFgoUUiUAlLQByHSqLV8eqj800MVrXorl9ApIVD6+OzEZWPCr4owtdqZr49Xv727uLTZQGCQYdGoCNVdk6JXTY7mCc/DWzP0x/vLP9hXUtNu5o7mxvpLnpmfcsOokKsyT5tszPoT1W/vKqpuM3FR6nH+kr/OiF85IQob1ovD4SAaaIb98mjV0z/mki6uBRvNqiTUurvHjY5QDX6Tnvg+Z+3hComAwFzqsgtJbNvDU5OD5fzzP5SdDXl5eVu3bn300UcFAoFrSPOxY8cOHjwYHBw8ZcqUsLAwLjvkFcGyTH1b3bGCwwfz912ozDdaDMCRsFEkECeFp4xLmjghZXJCeHKv2mmxM2/vKvm/HYUC8qLvinM8+Eio15elXZ8WMvhdt/FM3V+/PuUo1oc5n0oWgbV3jJ2XGsxTi0f/8fnhin9sOk+zyMl5G8OqxNSHK8ZMSfDDBtcFiBDalFv/yLdnrTRLODJMcd5uHzH16pKRi0aFDuOBuPoZIfuPijbj/etOMwi5bkZgsEM3mKzMdSMCB1n35dRo/rHpHEngritIbvlV2Wpclhk+0A1o0ll+PF2z41zjkbK2k5VqtdEWpBB2KqrGw4OCdoxXYGDgwYMHFQpFcHCwMyUoACA8PHzUqFH19fUnT55sa2vz9/cXia6QlIZh6LOlp/+3+Z0dJ38N9g2ZPDJ7WvqMcUkTx6dMTolM1Zt1205sKqg+LxFKIwOjMNjT1VJRk/7JH/OQYwvA2XIcg1qz3UKzU+L9JYJBzRxarzH/6dPjNItcNyMwDGIQFDbolmWGuycP9i50ZvvPOXWbc+uPlrUdKW1t1JpDVWKHYufdHMMEDVrza9sK67UWV84TGKa30MVN+pvGhg/yRlirwbZ6R2FRo0HgUt4ax6DOYm812CbF+Sm8mnnaXbK0GW1b8xt2nG88WNJ6sKSlWm3ykwrci0UPBIZDWuLfzje2GWzSy1MsQ9gxSRc06kqaDYO8uP/xdA3jyX2DY/BEhbrVYPWTCgbu7m0G6zM/5h0sadWYbY6Cy5ifVLBqYtT92XEiitcNPXI2zJ07d9OmTenp6ZhL1mSEkEQiWbRoUVlZ2fHjx7/66qvJkyenpaVx2aM9XYo9eG7fh5vfITDioSV/H5s4zk8RgGO/D0GLpvl8Vd66nWv/t/m/tS1VK+fc0zPXBSps1DfrLEpx58I2FIEVNuhq1Cbvlmu/InYXNGlMNqGnTMDtJvvZ6vbJ8f4DOGQOx96h0tZmvdWx5AO+Eupoufq1pWk4rxmGC05VqqvUJncRKCTxU1XqCw26QfYotxqsewqbhWRnpSIgsBMVbUWN+nAf8cDd3WxnXtp0flfHc2d3ePSAr0Twa17Df28eNQiZ14dDyEarwUp0YR5ohjXbmUFuj85Cd2WsCAxqTLaBu7XJRr+46dzugiYrzYgpQkwRBAbVRttbu4r3FzfzRwB66GzIyMgQCoWHDx/u9BbXgbGxscuWLZs6derOnTvXrVun13uuf3+h6vz7P78lpITP3v7SgvE3BqqCcexivX/uv/7KgOz0Wf+8640Q39CNh7775fCPPZwjjVa6q8AFO8PS7GCPssZs76o9CCGLp3LDXsRTG3K3n2/UW2mJgBBRuIDoWH1+e6L6s8MVPJ+HDcw2lmZY2MUzqzbaBrk9DItMNsbdlQUhNNkYZ+XuAcKag+U/nqk1WGgShyKHnTfZ6IMlLS/8cm7YehpYhI6Utn19vEpvsQMAKRzOTwuenxos7pNbNVQpZruYDsUUofTkJrLYmZ9z6n4732hzWDQhid+SFTEjKcArG2MhCiGAwGMdWAjhgFb73X6ucX9Ry6WShxfviDt2aj49VDErOZDgF189czbceOONa9eunTJlirtugBBSFDVq1Ki4uLhffvnlxRdfvOuuu9zTQL3+3csIoMeXPZsSOZJm0ZGy1i8OV1o7+IYIHMtO8F82JlwqIIJUwS+vev1v797z0+Hv02MzooKuULAKOmq1dyX/hCROehpihkXbzzX+cLqGZhAASETiC9JD5qUGe2XjIEwl7qo9GAYlA+nfOlDcsu1co2M78nfCc2U+X958fuXEaJIn/LCAkMJJHENOu3b5bBKm9LysP1rW+u2J6haDDYMAx7A5IwKXZ4aT3uA87iC2ew5HFiGliBzo/cF3d5fgGHSdrTjSn6luP1mpHhvlMwxFwy85dU9uyDNZae5nIwC25DfcOTn630vS+nC1SXF+0C0Hp2Mxh4KVIkdC7854b0/J69sLqUtTKAJgb2Hz8wtS7uhxUc1uMDne/+MD5Xa2c3lrhFBcgEQiIAYuXejZ6vZmvdXdUUwR2G/nG1ne0dAzZwNCKDExkSTJ3Nzc9PR0d1cEN5pSqfT222/Pysr64IMPkpKSbrvtNmfm6U1HfmxUN6yac8/ImFEAgP/tLX1jZxHNICfffjlbV9Coe2HBCImAUEpV/1j5nztX37z1xKYHFj3SffMwDKaFKgPkAqOVcV3fc4ceR4YqPPpF395d/M7uEtcG/Hy27vXl6V4h/LyRwSoxqb/0OLvCVyIYF+07oKLBZKU9DiLDou9PVt8+PpKn9DBAWpgiTCVSG20IINdnkGbR+GjfaD+xu1E9Xt52w3uHKZc605tz6/Jqtf9Zmtb/9qjE5IRY32PlahK/zCYwLJoQ5xvjLx24rjhW3qa10CKPu4FG+/HytoEWDVg3Cy5gMwCb0fM/xt7nWxY26N7bU2qw0ASOYRjEMIhjkMSxrfkNuy409WFdGBsgeXpeMoFjrv4GCGG0n/TWrHBu2eH6lT2FTR8dKOeyJjgbYLYzaw6Wn6lq7/86dVKc34RYX66gqouCAUox9cLCVDCQJSRwDLr/Xq4BBMbniHDAbu6S1XYLcKkKceONN27ZsqUbbcF1bHx8/BtvvKFSqdasWaNWqwEATe0Nn+/4JCIg6qbsFVwlto1na+0068o3mZD48kjlyUo1N1bh/hGLJi7bdWb7yaJjV17Z+4genZUgchDMud+BQRjjL7lpbLifo06m6+f3F7d8c7yaZpBrAwQk/tq2Qq8QXkhgb96coRSRzvZwr4epxI/MjsewATyiRRHdOQcR4GWy6yqYBjbTQJj0QXD+RflKlo4OC1YIXWdoDMJQpeilG0ZQbkGvWrP9rs9PCMnfjTyGQamA+PJIRbXa1P8mBSlEf5kaGyATOHctLz6DfpKVE6MjBjKgQdC1pwRz1A4d6OEgurOte/4NSE9RFYwdJMwBUZP6YrEZdldB08kKtUpCdZrtatXmXQVNE2J9e+XbgRASED40K57Ese9P1RisNECAwDsG756psbNSAsHlCtRgpbflN6qNNunldyFx7Fyd9nBZ66gIZX82Kbh7vX975kf7y7bk1WvMdggggcP4AOnKiVFZ0T4DWpUkUCYUUwTNsG4ePBDuIwK8agAAnFkH9PXA/agCYoFvHEhdAkgRZwIyMjL2799/7Nix8ePHd++WwDDspptuMhqN3HmKdbs+M1oMT978/7iwxz2FTfm12k5bb46lMPjyaNWYKB+pgKBIavHk5XvO7tiXuys1Kk0kEHdjQAUEfl92nFxEfnm0sllvRajDUsQHSh+ZlTAmysfd5bansKm8xdApshrHYLPe8mte/YhQeX9O1nA9MDc1yF+W9cqvF2rUJobtaGGoSvT89SmjI1UDSvi4ACmJYza3sAmHSoazkgN5vv+OlmJQ+CugrZ71Vfx1IGL8UHb+3TUlJsJX/MHestp2k51BJA6TguVPz0seEeIhzv2Tg+UmG9uJd9CR0uQ/Wws+WJHZTxEDIZw3MlhI4h/tLyttNjAIQQBGhCgenhU/Jmpg6zPH+EuFBObx+iIKj/STXEXRYATbXgUiT7LFxgJS3DfRYLEzF+p1HsP4SQLWtZsMjoCm3g4hgWF/nR43Ida3tt3MIiQg8bGRqgC58GJxSJcP0wyrNloJT6tuIYmXNOl1Zrt7XHpv26MQkU/OTZqRFFDZZsQgFJJYVrQvtwQc0GNgs1ICf86pK2jQdbqRlWZuGxeJ8SfQAADH/gfqzgL3VKEsCxKvA4nzONHg2BqH2dnZR48ezczMJEmye4sGIZRIOh7XVm3z6eITUUEx41MmOQK4mEatxePhPwKH5S0Gp8IL9g29bsz83Wd2LJ50U1xowhVvd9u4yMxIVVGjnmGRWECMClcGyoXua/oWg7W6zeQxdkFA4Pm1WppB/dyB5X5cZqTP/1ZknqpU22gkFRKZkapBIPz0xID4AFlurabT6zSLbkgPDlKI+BKav6P5Atj7KrB4ittFLBDIhqxocBrW2SlBCYGyc3U6K82IKHxMpA93UMh9lM/VahlP/i0Cw7afa/CKiIEQTk8KSAqWna5qt9MshsHxMb7OZ3CAWMdNLvNHBv+cU9dJ60MII3zEE2P9en61Bq35YHFLvdbCOellAmJcjO/IMCXso2gAEFAACDztzUAjwPt+HpSLZ/Eodh37FX0cQgyDY6J8xkR11oOwswMHiiiiix8MDBa6/8Hnzns62uPj8a0BQnyg7Kl5Sa9tKyxs1Ds7AQFw46jQP0+M4vcnHPwTAUrkgcCMHRAi4DJAGIbFxMQcO3asoKAgLS2tJyMOADiYv69V13LH3HsvvdXB6i4fP5eoBBElykwYt/X4pnOVudFBMThOXNFmJQbJE4PknQjfWeHTrMnGwK68TNBrtowL8l2YHtp9e7xrQFUS6uUbU1/cdO50ZbuzL200m53o//8WjgB8NfnLbB8OSEmHOHbvE5YBGDmU2+7cDYz0lUT6Si5ngYdR1phsXdAPCUnCW84PjvML0kSDxnnu4k/OTWo1WE9VtrOXbocQSgtTPjw7wREl3aM2aEy2D/eVfXOiWme2c6JBROKjI1XPzE/uPg5psAMhhSSeHCJnGATcjTZCsQHSvqWn8NhHHl8UUXhSkMyjMmBYFB8kkwmv1dwVTvEb7Sf97HDF+uNVVpqN9Zf+eWLUgrSQQT67PzygUCgSEhJycnKSkpIoqkf+p/yKXBzDs5ImOAkf6SvGMQ/WhGbQyBA5F8vNvRsTHBcXmnDk/MFZo+dKRTKvEN5XIoj09Xy8yM6w46J9vJKCt+ft8a4BRQiNCld+tGLMl0cr9xQ2k46t63HRPn+eGBWi5N0Mww2eRtPzCKdHKPM8ORtYBMZ4KU7wqnCesxUx/tL/3pKxObd+14UmK82yjkC6u6fE+DsyAPWkDQyLtp1rXHuoAjmCJJyRGScq1N+dqBkZqhBTxFARDSSOTY7zSwiSVauNrgkcWRYFyoVc/OBAN2B8jG+4StRqsLkGnzMsivSTTEvwv3YzJzrFb7Sf5P8tSHl6bhJyeFYoAnMmXuVtaO/WZhiWkpJSWFhYXV0dFxd3ZXdfW11DW11KZKqA/N1LOTbKJzlYXtxkcD39hxDCMbAoI5Tze3HjEqQKDveP3J+322a3gm5FQ88hovDpSQE7zjeqjTbX/SmaZaN8JYvSQwc6XeMgIEghfGx2wkMz47n/xTHI7T/ybP/D4t6psT+crDHaGHehfO+02GGgnMJU4numxDhPP3GHCXpu5NsM1i+OVNIscj7+3LcwCPYUNp+t1kyK63Kb4yrYi9RQxfPXpwTKLtt/FVH4LWPDp8T7DUID0sKUd06O5k7ZOtvgI6Eem53Yqw2hoazESRwTCwgu3Y1r4lXemvQWoaGhAQEBxcXFNE1f8cMt2uY2XWtsSAKO4VxURMeiJ1x5a1akSkxyB4M5ypE4dufkmNERKugiIzAMC1AFtevVGqPGiycO5qUG358dJ3f48NAlyATEgzPjov0lw4PwBI4JSZz7R+J8Auk/NBBCIUrRu7eN9hH/znkuicLdU2ImxfkNjzR3nTjfKyOvt9CHSlrcFww4BqvajHUac3f3HfzhBABcnxYcIBe8s6u4XmNBAPhLqXuzY2ckBQ7OPihFYA/NTEgJVryzp8TgyC4VIKPuy47LTgwY0BiW3oJFSGe2G60McBxNFpF4pyMnPAaBrhDCtLS0HTt2ZGVl+fldQVO2alva9eqY4DhnumiOUfdMjZma4L96R2F5iwEBIBOSD82M52L7nYTn/hvsE6KQKEtqi6KDYr34xN03LTbCR7z2YLnaZEMOifz4dRcl8tDxP9EMqzHbrXaWy4xG4JiPhBr8AoZWmtGZaceJjI6ekQkJqYDkRci1JSURQjOTAzc/NOWpDXm17WYIgUpMPnt9ytgonyHlcEUI6S203ko7DntDIYkpxdQgFKqF0BFc6NYVjoOjoPv7E1dlZYAQGhvl89Xd490N9ODsg3IHDWalBLo3YOiQ6XRV+xdHKs9UtTMsEpBYcrD8jonR42N9eaMwyHRNTk7es2dPfn7+tGnTMKy7OUxn1OrNukBVMISwE+ETg2RrVo51n847UU4l9REJxA3qeq8/cfNHBs8fGXzFBlxFxXCotPWTA+UVrUYuAiNQLrwlK2JJRqiAHLwdQ53Zvimn7te8hmq1iUWIxLGpCf63j49MDpLzuuGa0w1hKvHX94zvyjs1BIw8yK/TrjtWdbi0lWU7Zp+EINnKiVGT4/wGWiuLSDwpWFbdZuqUIxgBoJJQim4jC4mraIuv1lh2daMh5dI8V6d7aP2ZokY9l/kLAVDYoD9Y3PLtvRPSwpS8URhkZ8P8+fO/+uqr0aNHKxSKbj5stpmtdqtcLO/EpZ4TXiyUUASlNWocYw6HxxPXk04+V699ckNuWYtReMllWtVmOlPdjkFw89iIwWmGnWG/OV71n+2FZhvDRUUgAC7U63JrNO/cmjGgaf54DJqdHzoobNQ9+l1Obo3Gma+puEl/rlbz2rL06V6qadAVfKTUivFRq7cXsuiyDJsIoYmxfqlhij6JBgwHgYlA6Kk+pN0MxH1d77IM0DcCq86TQUSAkgBZcH/Ocw4PGK30Ez/kVLQYXc+SkDjQW+kXfjn30wOT+UVPPx6XKECbAebGfJYGyjAAcY+mJzo62t/f/8SJE7Nnz+7eTkFweQJExAJDMzC3eyY8TgFVFHApfcl9t+dlsocHGBb969cLFa1G15Rr3Eb054crJ8f5h6pEg2HEG3RrD1fYaNY1HJvA4Kkq9fenah6ZlSAkr+U6sQI58IsHdk/5EBELxF7NPaxvAhYN6Cp0wCcKEMI/uB0y2eivj1VdqNeJKdw1NKdeY3l1a0GMvzR6ANM0IQGB35oVYbDQ645Xakx2zOGYwTE4Idrv73OSui+QRHTHsDu2uNtQzr4CUV8ZZjeBg2+Awi2AcDsByNhB1BQw559AGvAH59O+opa8Wq27VxYCUNpkOFmpzor2cnZxBMD5Ou0He0sqWk2csQ5VipaNCe/k0B4OmP86oG2ep3BS1CFbu3A2zJ49e82aNdOnT++qFrZn0BZw/COQ840HwrNMh2K49RsgVPzBCV/aYthX3NIpnT6XEb1OYz5VpQ5VhQ6CcDlboylvMYop3F0I7i1svn1c5IDWOx5wRIwHN33RxUSOvCwaTn0G8r4HqIvY4dt/AP6Jf3DO17abD5e1OnJUXmaLCByerW4/W90e6SMeoNT/jswWwEdCPTo7YUSIfN2xKoOVhhBclxK0JDMsVCnqfrO+W0+Db+yV79zr9joWXuoKD0qTsXYIYZbhF8MNWnNXsTAsQC16i9fv2KS1PLkhN69W67xtYaP+fL3OV0KNixleURTy0B49Um7Ohri4uICAgL1793bvbPBwNWMbaCvnEk129m1gBE94AECLIxm2RyNlo1md2T443g5HPSQPzcAw0G6y2Qa4xvfAAjn8uJTE+ybd8zq6DbRXdMltxsZz3mJntGY75qm4NgBAbbSxCGEDk/nfGdhHEdi8kcEzkwO5Ki0kjvXk3CbRnzv364ue0nSAgekjO4M+2l/64b7SNqMdgyBYKbw/O37F+Ii+pWRo0Jhf3164Nb9Ba7EjBEYEy++cHLNigjeL6SlEXW7QYBD2Lf9V9+bytwuNR8va5Jfft7bd9J9thV/eleX1Ow5pdE3sxYsXv/vuu7NmzerqifKV+yllqqqmipjguN9DJqHjml1e9rLXm9obdCZdTEhsP5+Fzw9XvLO7pF5jRgAEyAR/nR73pwlRfavY26K3frCv9KujlY6DPCDGX/KnCVF3T4khvLcM4gjv0VQReJcpXL0LDANSAQEQ8BRSDsQUcW2Xle+JufbirqfjPBAYxG1UmmF/ya1fvb2wvMUIIfCTUnNSg/7fglSVuC+2y8aw7+wq/v5UTbXaBBDwlwufmZe8LDPMi0lNSBwTUwRClk5POjedy4TEIGSW5M5Yuld16P7Wf4it01c2n39tW6HWQnNpjhq11ie+z/n0YEUfMka36q2Pfp/zxdFKs50RELiQxIubDc/8lPfxgTIvNnhKgr/IpUim61gqRWRmlMq7/WOjmXd2l4gFnamDY7CgQbc1v4FfFnAPc3R0dExMzL59+7r6jIgSCUmhth9ZFkwWo522KST9GuL39pQ891N+i8EqcJzh1pjtj/+Q+/7eUivda69Gu9H24qZzb/5WZKNZisAoAqtqM/1ry4XV2wu92LGpIYoQhbDT48htkwXIhGmhikEYXALDRoTI5SICub3FsGh0hKqfJWl4DCi+P1Xz50+P17WbRVQH53UW+utj1bd9ctS9el9P8OyPeW/tKm7QWAQELiBxjdH2wLpT356stjOst3I8BMgEqSEK1iVX0EW+AaASU6khCnyopv0f/qJh3bHK9SequDU6N+/iGJQIiDd+K8p3q3NzRXx7snprXoNMSLoqNQDAh/vK8np/ta7sV5Bc+MD0OBGJu2b/RQiJSOyWrAhJhz71ZnISBoHCBh3hdpgQQthqsJa1GHmT5FTf2dnZBw8eZBjPs2+AKshP4V9YfZ5h6b7dpba1xmq3xATH9bmdm3Lq3t5dgmPQ6fnEIPSTCl7dciG3Rtt7F1TTN8erlGLKlfAIddjo/UXNXutYCF5clCoTEix7WXV7MYlnJ/onBMkGZ3ATg2Q3ZoRCADoVtQ+SCxekh3Tj/+NxdVHZZnzsuxw/qcAZBOAoE4jn12r/va2gt1f76Wzt1vwGDMLfr4ZBmZB8/qf8Q6Wt3mqzr1QwPy3YTyoAl/ONIrB7p8VG+Q3drGvDXDS0Gay7Cpq1FrpTRAmOQbXRtr+4xd5LHbrmUIXczXZAANQm2zYvrci5DadHZic8OjuBq8vOJdxICpI/Njvx7ikxXj9NBB3+YXchwjFYQuG8VXJ2SEpKio+Pz/79+z1+IMgnxF8ZmF+RS/cpUkFr1NS11kQGRkuEkr4NMUJow+lak5V2/7qQxL88Utk7t4eN/ulMrdBtFw+DsLbddKJC7S3xikG4ZHTos9cnJwTJMNjxK1iEov0kD89KuD87ztWqDujw+kgE92fHrRgfGSgXXnQ/4NjYaJ+Xb0wdH+MzWM3g0Wt8cbgS97R5hEGwNb+hV0YeIXSwuLXdZOtU4w3DoMXOrjtaxXqDAxyRZiQFvLBwREaEyiHEO14JVojunRr7l6kxEgExZMlGDG8yac12tdHmcfOVJLCKVmPHyqY3c2Jlq9F9wQEhtNiZRp3FuxP5fdlxGZGqeo0ZIYBDGOUnSQ9XDkQSKhyD6eHKnBoN6Zbow0dCRfqKeavkuh6dMWPGtm3bxo4dK5N1XgHLxfKY4Lic0lNN6obo4F6ndGxoq69urhybOF5A9vFAmtpoM1hpj+EQOAbLWgy9uhrNomq1yd1N6nANwBaD1WRjJALCKzYUQrhiXGR6mLKixcg4XLaRvmKuttDgZF1zmGiUECh7fsGIeSODW/VW5Oi01FBFrCNDA1+6ZciitMXQVVYDG40aNOYI354u3HVmu8Zk87guI3FY0Wr0ylTOrQylAmL5mPC0MGVBg86RLwEEyoSjI1VCx970kCXbMBcNFI4JCczjMHPp93s7MHJPhUcdG6JQ7L0z3M7SU51KlA5Q0kwKx+6aHHPPlydd05BxOjczQjUnNZi3Sq5DExkZ6ePjk5eXN2nSJPfRGZs4ftfpbZuPbXxo8d97e/ELVfnVzVUPL3lSSPVRNMhFpJjCgSfCswgEK3p3WRzCAJmgotXD/hQCSCmivJW3wEn4tDBlp9xlg2Y9nakzxRQ+Jd7ffV3IK4YhixCFEHWRC43AIbcF0ENIBIRUSCJPjxCLQJBc4K1gfecRhsQgWeLlG3BDXJ4O8+2JYKUoMUju0aFEM2hUhLK3wSZjonw8hk/KhGRCkNzrJqwnL3qBBBi8bkTg32bEsezvUTkYhFPj/f+1ZKSI5LcnLjcrEklcXNyFCxcsFov76GQlTQhQBe46vcNi653nSa1rO154JDliRJh/RJ894SSORfqKCUdWeTe3ATshrnf12CgCy4hU0SzrLrjFFB7lJ/ZirNYQydPa1XPHK4ahjIld1KCCEIarROLeOMMIHIvyFQsID3HodobNivHFvJqndYinah0angaMAIEjQNxMgLuFIjN2EJwOCK+FKHMprhakBe8taq5qM0KXxQTDoswo1YQY395avceuS7zxvUOupT44bkX6ipdmhnXfGMZFvGAQYnCokAMhJBOSLyxMHRWu+jmnzu7wDmdEqB6fk4hfWgLyhsl1EZCQkJCbm1tRUZGcnOz+7sLxS97/5a0NB9avmHUHgDjwSwSxMz0Qm2WAIhTgF5/B8oaSg3l7H1v+dIhvaH8Mx0MzEw6WtFa2Gl0pyh28vC0rolejKSTxpaPDvjpaaaVZ6NIkFoGsKJ9Oy3G3ZRliXQgPHdoU8uv1Pwh840FMNkBdRPZQUu8+kjeMCv331oI6jdnVyEMISRw+NDOhtxdcmB6yJb+huEnvWoGWQSglWL5iXGRXCZe4p6wz512iKYcN4KBGW/QweYj3coxw1DlT1f7Uj7k1ajN7MUcvTAtTvHRDanJwr30DLIt+Olv75s7iFr2V2/WncGxMlOqlRalRfpJuLPL+4ubnfzqXX6ftWKpS+PTEgL/PTUoLUwwd3eCxJbxi6AqbN282GAyLFy8WCjv7/BmWefCdu+rb6t5/aG2Yf3hPrtaqbXn5q+esdsszt/4jKiimz93OfbG8xfC3b86Utxo5rxgEYESI4vkFKRkRyt4mtKdZdueFpjd/K6pqMzmdGamh8mfmJ48KV3XTzvXHq/5vR1FJiwGHkGZRUpDsiblJSzJCB79qJY/BtyZXNuBeTCTlQEWb8cWfzx2vaOMcwRgEgTLBX2fE3zy2d0KZ+/Dh0tbXtxWUNBvoSyJgZKjitWXp8QFdyh07w/6SU/fu7pLTVe0kjrGOQ3B/mRb78Mx4YnhxHg77eGCOBHXtps15DVqTHUIQ4SNemB7iDE/tg3WuajNtyqkz2miAQEyA5KYxEd3Pu3sLm//y1SmzjSEu5dsyWpn0COX/bh+dECjjZ+VrkVHNzc2ff/75rbfeGh4e7v7u+cq8V756TiFRvnzH6kBVUPcXNFlN72xcfSBvz8NL/j5n7AKvNE9rtm84VdNisCJHKMPyMeF9iFh0UrpeY/75bJ3eUUc+wke0JDOM8992Rd09hU23fXKMwDCnJ4874L7xr5MnxPBlWnkM1Jrnh1M1JU16DINyIblkdFiQQtgH/c19xWijN5yqadBaAAC+EsHSzDAfCdXNlHGyUr3o3YMAQGcCKJZFdpZ9Zl7yw7MSeNFwrVKq/2vojm95Sp3WzdUuNOgeWHe6tNnQaStEa7Y/MD3upUUj+LXXNYovv/zS19d37ty5OI67k2HXme3vbFydHjv6ocVP+CsDu1EM6/d88dXOtXfMvXfldXd7xbvjRcL34WoNWsvyDw9Xt5k6fcDOsCNC5Jv/NkXIR8nwGMJGvm9XW/TuwZOV7Z1SRiKEghXCDfdPurarllyOXi4+zv0IirYBzD3sgAXSQJC5CvhED0Vl5L1gkz6Ea+0rbC5rNrhvbMmExHcnqp+fn8yLhqGItjKw7z8A85TPBzEobAzMumf27NkffvjhuHHj/Pz8OpEBITQzY05dS83Xuz9/G62+c959HvM11bbWbNi/fsvxn7PTZ96SvcJb+0Heja7q7dV2nGvgNu86gcSxs9WaM9XtE2P9eH4NRRhawKG3gKnNQ51CxgpSbgSJc4dsCeKry/katelwaZtU6GE+1Zjs28813jM15o8qGmpOghOfeqjXh1jglwCSrh+aouHqQmexW2hG7JY/H4OwRW9l+Q4aoga0GZxY44HqjkJT0KoDWfcEBwfHxsbu3bt3+fLlHk3M0qm3soj9Yf83da21s8fMm5kxx7lVoTG07zn72+6zO4prC6ePmv3AokcElHB4RJC0GW1MFwnaBQR2vk7Hi4YhCqsO5H4HNNWutdovwmYFygiQMBsAPi2mBzTrLV2VpWAQ0lnsw+nH9lI0YHiH0vRY5BcnAb837wkqMSmmPGwAsywKUggxvs+G6soFEJRn0cBgACO4Y+E33njjs88+e8MNN1AU5b4okYqkt85Y6Sv3X7dr7de7Ptt48DsMOiwLBIhlzTYLzdhXXnfPsqm3CClRfxQDQqjdoM4tO1NcW9Tc3sAglrsQhuGRAdETR0yOCYm/eOuBh79UQOKYx5qQLAJp4YNXB7xGbWrQmgEA4T7iYIWIJ/WVOd9h3imAuc0LjN3hfuCtlWeEKMVdbfSTOObfm0QRw0408Og9Yv2lflJBs94KLp8V7Cw7LdofHxSllV+reXt3yW/nG1lHET9/meDhWQk3jw0XUzwB+mpgHVO1XC5PSEjYuXPn9ddf73EuF1LCRROXjEuetO3ELztObtUY1Y5AIlYqkl03Zv7yabcG+4S66ozeagUI4bGCw5sO/3is8DCJXyyJ4syAiwA4DPZ/vuOjjLgxDy99Mtw/chA8GenhSjFFGK20m2JAMiE+Ltp3EBwq1WrTfV+dyq3RcAfeLHZmYXrIG8tHqSR80SkeXgYXuBCmEjXprO4HLMUUwWXyHWhY7MwLv5zblFOnt9AAAhGBX5catHr5KK/XAeDnjAHHrJSguUUt35+ssV1Kgc4ZTQrHHpmV4MVaq12hxVGZ81ydlsK5aHbYarA9uzFPTBHLM8Mw3tfR94VZR9ctX778tddemzlzpvvZS+eR8UBV4Ko5f1k15y9evLvNbi2uK/po8zvnK/OlYlmob1hSRMqo2MyooFixUMJlRaYZOq/i7IG8vYU1F1a8uvTVu96YlDptQCdshFB6uHJZZtiXRyuNLiUwEEI4hG/clDEIuWssduaeL06er9c5j7qJKeLns3UKIfnvpWl8GCaPgbADLyxKfeibM8glLKljzUDiE2J90sOVAy2U7Qz76paCTw6Uy4QER3sbw248U2uw0l/ckeXdW/OiYcBFKITwpUUjfCTUj6drHYfWOkgW4SO+d1rMqAjlIKz8vj5eVdZsoHDs8kKF8F9bLmREKOMDpPyZz34tMoKD09PTN23adNNNN3V6q1XbYrDoaYaGACKAKIKSieQ+8v6eOWRZpqm98Yf93/x8+Ae5RDk2acJ1mfOmjMymSA9e0PiwxKVTbtl6fNPa7R++ueE/PnLflMiRA2pAEULPzE9WSah1Rys1Zjt32kgmIO6eEr0wPWQQ3Axv7SwqbtJ3EsMyIfnxwfIbMkKzEwN43vLwuh1YlB6iNlrXH69u0Fq4RE9KEXVjRuj902MHQSj/fLbunT0lrnWRIIQCAt9b0Pz6jsKn5ibzoqEXqFGbTlWptSY7csRhRftJx0SpBu3AAmdDCRx7/LrEMVGqqlYTgB3NmBjrF36pguWA8qlBaz5a1mq2M4LLaxUSOFbdZtxT2BzrL8V5zdC/Rcb111//2WefMQzjPHtZ1VSRX55zouhoTXOVyWriaCAXy6OCYsclTxoZnX7F5A1dKwb2bOnpz7Z/dL4yLyN+7OzMuTNHz6UupptEAMCSJv35ep3GZOPqLcUHSEdFqOaPW2Qw67/atfbVb/7xzoMf+8gGPFnCfdNix0SqztVpuUSQoyNVI0IUg2A97Qx7rFxto1n3jDoKEfnFkUpeNPAYIDuwamL01Hj/ExUd9GMRSg1VDFrFtbd3Fcs9nd2AEPxytv7JOUlebMAwFw2VrcZ/bbmwp7BZY7YDBAQkFuMnvXtK9KpJ0YPJJ4400xICQMJl4nQQbKjeQusttMfICYrES5v1qKtKLzx6vMgICAhYtmyZMxLq6PmDGw6szyk7Ex0UMyIqTS5WsAhhELbqWgqqzu3P3T1hxJRbp/85KSKlD7fbeXrbut2fqXWtt85YuXjyci4DxCWrBM9Wt7+2vfBUpVrjUMk4hLH+krumxPx5QtRN2be3aJt/PvzDN7s/f/DGxwfagCKExkT5cEazk+NtQIdDY7LRrOe7QADaDDaesTwGyA5ACGP8pTH+0k4vDoIrt05j7uYudRpzmErcE8F9uKR1f3GLyUZDCFmERoYq548M8r08kHM4i4Z2o+0/2wq25jdgGJRQODd5V7Qa3ttTGuknmT6IC46rWJWExDGKwDzG9SIWBcqF/N6EVwY3NvZiIeytx39Zt+szi8386LKnR8eNkUkUFEFxSXMtNnO7Xn3o3P5v935V11rz10WPZsSP6dW9zpSc/HDzOxCCvy1+YmbGHJIgXWfiJp3l/b2lB4pbcAyKLxG+Sm1647eiKF/JrJTAO+fet/3E5hOFRy02S58LaQ5xzstFlLCLOCGEQKBCwDOWxzAz8gCAIIWwrt2zbiBx6CMR9ET0nKlq/9v6M+0mO82wAHY8L35SwZlq9Vs3Z7h+ctimFWIROl7RtvFMLY5B7JLWgxDiGKzTmLefa3SGJQ5vhKtEMf5S1u3cvGPTBM5ICuTjIL2IoxcOfbb9I4qg/u++9+dlLQzxC5OJZAJSIKCEAlKgkCijgmJuzl7x/IqXtQbN2z+trmmp7vnFc0pPv/rNizbaevP0P80du4AkyE7OqvN12h3nGjsRnsCxNqNtc2691mwXCURZyRP1Jl1RzYXhOgQCAovwFTuidtzrfCI+RQSPYYmlmWEeyy9jGMyM9BH34AAFw6JXtxa0GKwYBAISFxC4kMT1Fvu2/MY1B8v76mlACMz5V8e/7j/Ttbb69kT11vwGs41BAEgF+J8mRmUnBOADM2vRDNpV0MRVH+0k/SBEF+q1NWpTrL90eDOJC6e4IT3kUElLg9YCXYq4W+zMPVNjk4L4yhdd0DhiPPiXtVdUb2ir/3bvV3ba/uztL0cHxSIEvj9Z/XNOvd0hTykCWzY6bPHoMJIgxydP/suCB9/44dWvdn766NKnRYIrpxBoVDe+9u3LOpN28aSbbs5e4e72tNLMmep2s53pVGMCAkBi8Gh5W7vRphCR4f6RJwqP6M36YTx6j1+XeKiktUlncY1jp1mUFqa4fVwkX4OtSz77xIAnCq/8Mb73hh7uz47fnFNf1mJ0Fk/m7HygTPjkvKSeXOFIWdvh0tbO1gNCo5X++WzdLVkR0ktvEb3yv/TnM69vL1y9o9AZw48Q+v5U7ZqVY24bFzlA/diNHMH+GGaDkwjTEgM++fPYh78926A1O1L1QRLHHp6VwJVf422oV6jOIjan7FRu2Zl/3fl/CWEdT+mzP+V9uK9MLMC5rAkIoG35Dbm1mn8sSgUAzM6cV91cuW7nZ0sm35QUMeJKiwDmzQ2vtmib5o5deP+ihz0OGQTdFeHtaITjTX9lwPAuN4MQClOJf35w8qpPj9drLVaacfQMmBzn9++l6YNwwnk4c77nH+MxuJyXUPjWh6c+9WPutvxGbogwiI0KV35+5ziPqQU9iYZWwqMBgaBFb82taZ8U59970dAP7C5oem9PyeWphKCflHp2Y/6s5MAAuXAgFEN8gMxjOluEUIBMoBT3Ls2LzmyvajMabQx0BKmLSDzcR6wSk0N8xuV0Q3q48of7JmzKqa/XmHEMjovxnZkcyFe+9uJDW9VU8cnWD6aMnM4daDxd1f7xgXK5yDXnLpQJsQ/3ly3NDB8ZquB0w5HzB/+9/qX3H1orFXXn9Nqwf31e+dnkiNRHlz3lWOl5CmslsDClGEIPY8oiFO4jFjnyEzSpG3s44kYrXa02cYVhkeP64SqRn1RwTRA+VCna+Xj2wZKWnReaxBQ+Nd5/YlzfNyY0JluTzsLtZwpJLEQp4pM9DEvYaLayzag12bmC2DgGgxTCUKXomuC8REC8d1vmj6dr82o1EMLEIOktYyM9GgSP6NAWXU+mlMvhu0ESDW/tLPb4Uy008+H+shcWjvD6HTEIJsb6RfiKW/RWV5cDQkhEEaMjVT69yQ1nZ9h3d5d8fbyqpt2MQcCwKFAhXJYZ9vTcZOU1ohv8ZcK7psR0mup4xeAVsCy7/cSvVptl/rhFKpkPAOBfWy54TMQmIPDXthWsu3s8QigiIOq6MfM//vW9Hae2LJ1yc1cXL6sv3n5ys0wsf2jx33GM8HjahRvK5BB5QqCsss1IQNjprakJ/pxK1pt1GMSF5JVl+trDFV8cqSxo0BEYZBFQicm5qUH/XpLmO+Rz4jrPK02J958S798fwjtCp00fHyg7UNxipRkAgJ9UsGhU6IpxEQoxn1xyWIFh0Z7Cpld+vVDUqOci3kQkPjM58Ik5iaMjVNcK55dmhi3NDOsD59PClJ5LxiAgExIRLlU6B8NZ16y3aM2eK3YQGFbcpB+gTkwIlL64MCVMJXL2BUKIIrDFGaE3ZoQ6d316gk259Z8cLNdZaB8JpRRTvlKB1c5+frhyzaGKa8LVe3Uje4c92g3qrcd/GRWbmZU0gXulvMXQ9SRkdHb+DROXBfuGbDz4rZ22d7H0sR3M31dSV3Tr9D/HhsZ3P5RJQbL7smNDHEUWOG4jhAQkPn9k8KL0EM4zf7b0lJAShvmHd/+Lvjle/dbOogaN2U8qUIopHwmFANhwuvalzedZ9EchPEKoWW99efP5jw+UVbUZm3TWJp01v077760FHx0o+4NEUv9xkF+refGX8yXNBjGFq8SUSkwJCGxfUfN/tha0GqzDnvOZkaoRIXL6clY7DAg2OyUw0GU3YDA8DeTF7MUeRQzqlHSod2gpBLTng9cIw4nAEQvTQxUi6psT1bVqEwJALiQWpIUsTA9RSaieSzCdxb7uaBWLkOuvwDEIAfb+npKlo0NjBj2gUm+xf3eyZm9hs91xNiYxUHbDqNBOZ+J5DBpOFh212q1ZSRNw7OL2YVepArgFjfOBFFLCiSlTfz78w9nSk1lJE90/3KRu2HLsl+SI1DGJ4zGIAXUFsHoW2QinSL/Y5WMiov0k649Xl7caEQICAluYHrI4I5Tzq9W11ta31kYFxQb5hHTzc1oN1nd3F9MMcs2PhEEoE5Ibz9TOGRF0fVrIIPewjWZ/OFWzNb/BzrIYgJG+4kWjQifFDexRCBaB9/aU/HahUSogfs+mCjqWdJ8frozwkdySFcGTf2CBWKCtA2a151wyGAFUkYCSeOVWb+8uKW81uO6hQwgJDOTUaH7NrR/M1D4XOc+w3xyvOlrapjbZEAL+MsHyzLCpCf7EAGQmRAhJBcTLN458dmNeZavReQsI4R2Toh+YHufqtBgM0aASU35SqrzF02PJgnHR/ZjqfrwXaDwfWoOUBD12DsfgtAT/MVEqO4O4PQuJgCAd0X89v8mFel29xuzuFMYwaLYzW/MbHpwRP5hkstiZ9/eW/m9fGYsu/o6TFeojZW3/WZo21nu6gWHRLzl1nxwodxzCgXaGnTsi6K6pMXHD/chJH/DrsZ/9FP5TRk53SvupCf6bc+sx93BFCJ1THffJBRNu3HT0x63HN7uLBpZlS+qLq5rKF0x4LCIgsuO53fkCLD8APNWrhIowdPv3QnnwpFi/9DAlR3gIgYQinNF/B/L2QAhTIlO791uerFBrzHaP72IQbstvHHzR8NbOok8PVZjtDEIdj+GxcniwpPU/S9OmJvgPpGhA649X456S87Sb7IfLWpeMDuMjKwcWjB0cfhuc/RoQQg96QuILFn8Ewsd65VZb8xtEnkJVDFb6Qr1u8H/6iz+f++lsndnOcMsMHIPbzzV8uGLMdSMCve4k5i44Jd7vszuyPjlQXtiowyEUUfiSjLAbMkIp4rJ4+QEXDdzN7pkSm1ertdKdXR8iEru1P6cnLO3A1NYF26xcHUIM61ghuTep5zehWRYBBD33NbDSg+qlZBHaeaHpnd0lhGNG4gLmGRYVNOje31P69q0ZCpF3Ct7n1mr+8uUpiYBwCqyvj1cdLW/d88QMPrWDK+y0rbD6QkrkSNeiEvdOi/0lp86TaAB3Xx5ZEhEQJRZICmvOe1peW/ed3RkVFJsWM/ri1y36DsJ7LHItkEDkOBsDuyT8thObcQyfPWZu935LO9vdFoR90N3yP5yqWetQDBzhEUKsY5fng32lcQHSEKVowGwXaDPaZG7ZeR1dh0xWxmJneNEw0BMIsBk6OO9RNEAMsLS37kQzSEh6UPkIIWbQDxxtzq37OafOZKOdxwARQjQC93118syLc1ViciBuikEYHyB9fVmaew+4mosBZzx3yzmpQU/OTRJTODeRd8zlEPhKqNeXj5IJif6eAYPQwz8XAeVRVfUcciFJ4h6SKjp+B4gLGNSVd7vRtnpH4aWEE7//TBzCM9XtJyvVXrmL1mz/05pjIkcoH3RBRavp4/2lvCVzRWF1AY5hCWGJrsRID1N+e88EHzGJwYuExzHoL6W++8uE5GB5J8InR6Za7daqpko3OULnlZ+NDIyOCY65AuGd73S9jDhy/oBa3xoVFDMiMq37Jy7CR9JNcZbYwSV8g9a88Uyt1mx3zVgFISRxuOtCU1exI16yXcBHQnp88AEAYgHOn6EYPHTNeW8hNkDCeEqCR+JQIRrs1MnfHK82OIrEuhp5DEKTnf3ySMWAzted4D5jYoMy3B264e4pMWtWjs1O9B8doRoVrlqYHvLbY9nLMsOGfgx/WpgyMVDmvmpkEIoLkM4ZETSYjbHR7IU6rfuBWgyDNWpTVZvRK3f5/HBFu8nu/pMRQp9cnh2MR17FWRwjXEtHcoSfkuD/418nLcsMTw9Xpocrbx4b/tODk8fF+LoTPj0mw2qzFNcWdLqyyWqsa6sNVAUpJKr+O/x+2P+N1W5dNvW2K+rmUeHKUWEKj14uHwl1+/jIwezeNoOtoEHnvo/L5cbPqdHYBszVh0E4Py3E4/XFFD4yRMG5bflHYHjgnimxHqPjgxWi6YmBgyyUm/WeQy9JHNtT2Hx1O4oYLJnYYUYnxfm5xy4NccXAmfhHZifYGPZgSevvPgYARoYqX1iYIiTxwdQ9CAC2axuHe6kZJyvVXcWuQgCr2oyRvhLeynBo1bZACDsVvOb4EOMnXb083Z1Ona7gp/BnWKZd39lLVNlYLhaIfeV+/T8fu+noxpK6opSI1BkZs3tC+FduHPnS5vN7C5vZS/elGTYlRHF/dmyoUjSYhCdxKKYIhKwe3SgyIYkN2MIHg+DBGfE51RpOizuz0uEYvG5E0OLRYfwRpOGEW8dFFDXqdpxv1Jjs2KUdgQC58M8TI6cMZOiMJ0lKkF2UHkYIKQdmb6KXogGxwNjiiMrGPExSpAhI/AFO9l83XJtesQ65kxamfG1p+kcHyg6VttpplsDgqAjl/dPiEoJkg/zTBASWFCSrajMROHRfBXrrDL2fVAC6KH6JY1AhusZPqCMWmNTAovFMeJwE8hCA9VRPt2iaIIR+8oA+PwX+yiCaodX6Njevkp0iKIVE2U+OFVSf/+ng9xRBPXDDI1fUHxzho/wk/7151If7y3YVNFnsLAZhSoj8L1NjMiJUg+waVIjIaD9JeauBcLOeQhKP8pMQA6YaIIQJAdI3bx71yYGy/UUtZjsDAFBJqIXpIfdOjfWXCa6xTCemNmDRAtTFYkQRBog/dDUvqYB4ZfHItDDlhtO17SYbQig5WH5DRugCR9jvYI61QkQGyIQXgIfoS4ZFmZE+Q0A00FZw7H+gYKsH0rB2EDYGzHgeyIL+sGS6mGNOJXp6XlJVm4lhEQZBiFLEZcsZZMMhF5F3TIp54Zf8TvdlWJQervz/7H0FeBtH+v7MkhgMMjPHdhzHYeak4UKaQtorwxWucNfrwa94979e4cqMaZu2aQppkzZNGqYGnDhgO2ZmlsXSwvwfaRPXsde2JHOy76Mn15O1o9XMu9+8880335cROTBJSCZH+31zogoDAmFBQRrJsEvd/oJ1gFNfgFMbBKKrOMZpPa96Fyj83F2PuiYtDnH98GZxEArIAj4VYz8d4A1t9Z/++kFFY9lDVz+WEDbGHbryhNfIqUcXJ64eH8qwCEIQrJHx5zaHeJoMVEuXp4WcKG+10Gzn/TKaRbMTdAmuAItBegb5ZidF+Ub4ysuazXwEqJzE4wNVahk5+nKjnfkanP1GOHIQsWDNxyAg6TJ3NshIfN3UyJnx/hZXgaQAlYTPTzCkvuQLOZqOl7daHWyXlaFaRl43KXxkeBraKkBtloANZWkg1TiN7OUN3ozKKWJMsLr7AA/lnZA4dt2k8DaL46ODpZ3MKBobon5iRXLoAEWSr50UtuFo+ZlqfZdlHAbBnRd2/kaxYxZxwFADarIAKRMQDbZ2p1a+JGBz2Lb89t3hnANLJi6bl77I/SHjP0niWFLQcBKe/7o1E8JazI639xaZXaFhrjdBerjm0cUJwS7CD9ItdcSNB6qlgRenuh+V/DfUgrrTTpMuKBpoC7jswe89dcm7M8RjfT7tW3poRYv5vf0lRhvTsT8Y5a/429IxgWrp8NKP+H1RAzGAdQsG5ljh812XpW5w880hcDb8ZUni+Aif534+V9xkUkuJ22bG3D4z2meAPB8IIQLD1t8+5e7PThwrbeEPlbnOx+L3z49bOS7kktjK7YHw/Dmu/qO9BrT1EOSM4cAvHij6TkyUGpVmtprqW+u89Kdw7IZdH3+286P02Iw/LL6L3+YYjKdgsB86isAenB8XH6DYcLTCwXAYhOMjtbfPjNG5NuMG1YD21PKo5D/ELry63TzXw2akR6BtoOqo8L4exwJd4sh3V48QI89T+k8LEuYlBb6zt7jRaOcQig9QPbQwPmRoI4p6FQ2DjR/uB8c/dOpZQfO9+g0w9V5vmpVqgbwHNzKluITlMAbBouTARcmB3anWfz7xC6wAlWTTPdPe2lt8tlqPY9BHTt45OzYxUCVWrOiCYN9QDqGGtrrIwKjf383+Bvz8lx4SKqjA1e+Dsdd0vFHbXE3gZIC2a4Q2gZPRwbEldUWtxhZflYvnEVMAKRNuVuEPLlSUQAg5GMe/N/zfgbN7kyKS71v1cETA6C4JjRC6IjX4itTgwSC8iIGBsRa8Pg8I7l3aaXDdB2Dynd6Ie0rhNPKCeRrkPu7HHo26BSpCaGyo5u2bJow0F9dQ9TgucY59T6LBu4FHHLj3QB8fuBTdJEOw+uF1A0VgjyxKGGmUHWkI8Q9DiKtrrb3YnUA4zZyAJwO53r+IljUt1QROBGi7rsMklGTZlFWf7vjwcM7+ldOudl477+99r/dYura5+r9fPVNYnZcem/HAlX+OD0sc7QMnFk8ZDcAACQS2/PjYOMyrnBaEBCz/n/PVq6K8JAt2j1jOj2aZ1qcgEDdWRDM9+IgMjOI4try+xOsWSmoLSIIK8Q/r8j6Jk3PSFvx89MfNh77xU+smJ00j8N4eWI7jmtobj+X99uWe9a3Glnnpi+9afn+gT5Ao9URc2qZK7ANRNIgYRCCE9FZab6EhACop4augxBmlP0gKT8ExIr/ynNct5JbnqOWa6KCY7n8K9Q+/dcndr29+8fXNL65bcOuctAVqhUZwTGtbqo/nHzl67lBW8YkQv7BbF9997ZwbSYIUFYOrVISj3UIDCKQEHqSRiqQVccnDaGNazXY+nHlgU62LouHyAs1yHx8u23a2jk+YSuBwZpzuwQXxEjGFvrcKTEpJ02LGlzWUVDdV9VlyujvOVeTYHNZZY+d23/1xVU7B5qYvJAjys18/+GT7+0fOHZ47bkFieDLHsbzjx2Ax1DRXFlYXFFSdq2qqYFl26eRVSyevHBORIm4n8dXdNmdVf5tVbaM56MoyMjHS5775cX4KicheEZcqtp6p3XSiSu8qj4lBMCZYfdfs2IGqeCCKhssLG45WPLctj2a487E2AGVXt5sdzFMrU8TO8QJ8Ny7IWPzSpv8czt1/3dybPG3hl+NbIYRzxy3ovvvDR5ZISMn89EXRQTGfbH8vs+BofmWOlJIhV44eCCDLsQ7GYXfYVHL18ilXzk1fGBUYLaVkomLgz7XvL2z62/dn2U6nA3Jr25tM9tdvyBDZK+KSxO68hue25VW2/n6GNqtSr7fSz65O7XJyuB+iAeLAPxFEzQJEt0x/LAOCUi/zTGHe4e29xR8dKm0z0xgG7Ay3ODnwoYUJaWHaYbylvfmN/7c5G8dgp0z+kGa5L45WTI32W5J62eTvgjjwjQbRs4SymbFAHQJwz1Jezklb8OYPL2cVZl47+0bMkwSFDtpxPP+3AG3gxMSpPYkSfu6PDop99tYXSmqL9p3ZnVt+FsfPh5WxHJsWPT5MFz4zdY6EkrpyRMGhVwwshw4WNf33l/y8OgOJQ4ZFk6N9H5gfNzshYBjHua7ddvdnmRwCeKdBcTDcz2frwnzy/3rFZZbLyCcSRE4XTu7EcUAilrz3GLvyGl7cnl/iqpoGAUwKVj20MGHhmMBhvKX8esOLO/IrWsw49vvBIoTQdyerZ8T53zQ1Euu3WXCJBlIK5j7ufPWCSzRCdZDwzt7ip7bkyEgcQsiyAIPwl5z642Wth/++UC31zLuDEGI5tC2nPrtaj1zrpUhf+ZKU4AC1x0ruuW15GAa7L2ftDPfJb2WXi2hAyKkVpt7bxylfTwhPEOQ1s6//7sDGQzn7ZqfNd/9evjnwpd7U9vA1j/fpzODVQ1xoQlxoQi9Ugb3Wdx08lDabb/vkuIPhCByjWQQA+K2kJbO8dd9j87wuU4IQMtvZ4+Wt+woaKRxjEYrTKVenhyrdfoI2Hq+0OFg5RXTpTxvD7i9svGFyRLiv/HIxSQiBSXc4X6KRHyD8Vtz8502nm4x2wmVUEeJOVrQ9vSXXV055kZm3tt326NenDhQ2ORgOAeAjJ6/OCPvXlakSwrNTJ8fL2o6WtmpkZBfOkzj2w6maK1KDAlTSgRANbi3ORDK5ixaz45VdBbxi6HiTxLEWs+PF7Xn/unKsR63prfR9G07uyK0nLpSQsjPcpKjyt26cwFe+cB9FjUZBmYkQqmg21+qtAxsvM1LdDHDACY9j+KKMpd8d+HpH5s9jo9N9VG4lh69urtp+fGuAT9DCCVf0uohnHbQDdKoZACGUkFKhtNPD85DSLHfv5yfsNEd2iozBMYgQ+NfWcx/eOsm7Zk125tZPju/IqVdIiI4vemVnwd7H5qmkbiUytzgYQcJDAI02ptFou4xEgzvcEI282zDa6O+yqqvbrMoL5OTLtRfUG97eV/y/teldpu3eYbYzd32amVnWKiUx0tWgneE+PFgqJfCnV6e47xuw0Wx1q5kUqjWIQVDdarHTA1ASdqhiGkIzgMMEBPPzQwj8Yi8lPn1yqNTOCDiHSRz7/GjF06tSeyogKTidf3286reSFqWE6GhQSuJnqvRv7St+dnWqR9T0kVPNJrvg1KKUEgFqMarcewT5htx/5SOvf//SNwe+vHnJvTJdAkhbK3zol5QCbWSr2fDBT2+arMZ/3/4SiQufcTDbzA1tdZWN5RUN5QzLdCISEaaLCPUPjwqKkZDDv3V4sKj5dJW+w3p2gEMoq6ott7Y9JUTjRbOf/la+J6+xcw02KYnXGWx/3nTmrXUZJN73NhDsOcshRWBdPBAi+gtKAcZfByihbQ7GCnxjLqXfWtdu23yqRk52dQNISXx/YdPZav2seA8KYz7/S35WRauMwjvN8VAlJd/ZXzwzwX9xsrs+YAJzXiWoCxAAKhnp/tQz3KIBIZBxk/N1eXjGKlosEAgXk6NwrLjRlOi2h6BGb92VV2+nWcnF7JSQ+Lcnq9ZMCPOImgvGBH55rILoVnQVx+DkaF8Cg2LonLcERxiGzR47v6Dq3OZDmzQK7TVzbyLiF/e4TLFbP/vp9eP5R+5afn9y5NjuToKKhvJzFdl5lbkltUWVDWUmq5HrVLYKAYRjeHRQzIKMK1ZMvVIt1wzvqJ2t1vd0+oblUE2b1QvRQLPcW3uKVd12IggM25PfsCe/YUlKcJ+NxAUq+VNCXQYLABCmlUX7i+XdB9TIK3Xgxo2XiZG3M1yjwda9qjAGYUO7rd3qQfEai4P54XQ1JbQNIaeIN3YXeSAacCwhSKWWEgyHuvgnGBZlRPiopMQoEQ2XmWeslz1XCIHSk2HTW+jKFgvRbVGFQWiyMaVN5mmxfu6XBn5oYfye/IYGg72z3nQVaKfunxcv5m7qB8Gdeksmka1bcFtFQ/kXuz4x28zrFtza3Q2AENKb2j7e/u7Ok78smbhi2ZTVXfq8oa3ux8PfnS09VdNcZbQaJyRMvnbOjeEBkXKJgj8xARAwWg2nS04eyt7/+c6PapqrHl3z996TPg26l0Ut7akSJw6hnPImFWB5s9lgpwW5jRDIqtC7IxoWjgmcGuN3sqKNuljT+Cupm6ZGSklcpK5o5L0DDoGMwruvshBCKhkh84Ra9e02tudNg5o2q/tLF74o67KxwT+erkGd7DmHkI+CWpQc6Oa+3ggQDZcZZsXrNh6v7G5GEUIhGplHhSg5hBhO2B5jEDhYzv2yyQihMB/5R7dOfnpLzrHSVt6MshyK9le8cUOGK5phIIrWXMa6AQDgp/Z/dM3fnvnsH98f3FhQlXvj/NvGxY7v/LFDOfu/3vtZcW3RtOSZty65S0r9viXEcdzRvMOf7/yovL4Uw7A5aQvWzl3no/KVUTLqYvGBEJqRMnv1tDVvb3ll18ntarnm3pV/GsbfvjA5UEZiDCfgplJKifRwb8q121yFqYSZ7PJDuEN4PwX16vXjn9mau/NcPR9Qxr/5xo0ZM+L8xVOpIryGWkamhWn5s0IXLeg5NC5cG+FJrEyAWtrLrkGwVuqRCfJVUE+tSoUAbsuuYzgOQshxKNxX/vjSpNkJugHhvCgaBh7LxganhGjOVOu7Oog49MSKZI+GTSUlgrXSeoMNB131LIljGeFad3Z2O1NqXJjm41snbz1TU2+wQQD9lZIbJkdISUwMne4/+GEN9Q9/8e43Xvrm/x3PP3KuPCdAGxjsF8YhFsPwsroSvakVQrh8ypV3LrtPJvk9m4KDdny559NN+zZwiJuTtuCWJXcFaAM7+w+6nIyQSxUJ4Ul3LX/g2c//8f2hr1Oj0ma60kMNC/yVkr8vT/7H92e7RAmQOHbT1EilVx7RpCA16kHESglseqy/m4SPC1C+e9OEXXkN+XUGDINKCbF8bEiEn1xUDCL6g2CN7Kapkf/cnN2ZRQghBUVckxEWH+hBiLpSQoT7yPQWhyAbp0b7eWqCAlSSF9eOW5IaVNhgdN6ShFgxLiTcR975uejXAgm5v1YddtSdBZvvBbhQ5BdBgQm3gPQbR8id0ix6/NvT32XV4BAigCCAUhJbf/vkydF+npqqV3cV/veXPMolDjqO4DMcWpoa/N9rxuo8PD8jGsqhkQ4AgL2nd23at6GqqZI/MglcNEgIS7pxwW0Z8RM7f7LV2PLWj6/sOvlLoE/wHxbfsXzKlefHqOwA+PkxQAqtWhgrmv4gHL/uk+3vb9q/IcQv9KO/fDW8P/mHU9WPfXOGd4xBCDEIXro2/crxoV5Qjr/kH9+f/exIBQZBZ6OMQZgcrNr28Jz+EF58CkYuqk+AXc8CW7tAEDFrB6lXg5kPD3tlyw7+fHSw9LVdRUY7zT/gvgrqb0vHXDsx3FOOFTUYl7120OU5Rp3zrASqJMf/b5HXtzdInB9Vnga7EVQeFaiR6vwdUtBz3NnQU4rE4cvXjZ+XFHisrMVOc4FqybqpUcEaqUcjx3/45qmRDe22H07XWBys6x1AEdi8OP+nV6XoVFJPqSDaysFGxzM/L33hvPSFepPeYG7nj3H7aXQKqaJLTef61tr/fPl0TtnpjPhJf1z1cEJY0u9PuLUNVBwHEqH9LIcVpl4DALjtirt/Prq5vrUuqygzI37SMP7kK8eHxeiU356stjlYPyV15fjQxCC1d6aKv+SZ1WPbLPTuvAYrzWJ8ckwCnxrr+9a6Ce4bQbHu2iiDrR3UnASWFgHRQFtByHgwAla5HSnX7pgVMynad3NWjZVmCQzeMCUiJUTDr8M9svPxgapN90x7dNOpBoOd344mcJgR4fPCteO8mO8Hm/PE6LLHTo2Jk917HeDEyKlp2TE8K8eFrBwX4vXI8dT0U0qeuyYtyl9xuLjZznAYBOnh2nvnxmlkw1OLCCGkt9DNJjviKy+QeIhW5v4uyeUjHfjR0Sq1WqW2ixDsGLVGfcPzG/9VUHVuXvqiR9b8TSlTXfwBCHAoQHgAAO4AEOP99xnxkw5k78suOzNcoqHjd6WFaTvnPO0PP3nl/c5NE97dX3KgsIlhOQjh+Ajt35aOGWJXAUKo3co0m+x8ABGJY8EaqRhEObhG3vnq1sMcAzBspD3g/ec839T4SJ8v7562LbvObGc5hCJ85avSQ4fxRJvFwdTqrecVDAaDNNKOzUcxpmF0zD33zIm9ZXqUxcHiGORzMwyXYjhVqf/4cFlNm4VDfKgwOSHC5/55cRLRjHqo99tMrW/98PKZ0qzFE5Y9cs3fJJTE4yWF69/E8OR9Z3a3GJpH8o/1mvn3zom9c2Z0u5WmCIyP/R5ixXCuzvDRwbKKFjO/8yIl8QmRPrfPiPZXicn1xQd8YDjPXxWskd0xM2bwPATuo7jRtOlE1YnyVv7EMkVgqaGam6ZExrpKXomiYXRQk1/Td6xvhkt+Nhrtj397JqtSLyGxDi/P/oJGKYnfNy9OHCz3YbaZvtj1yeHcA3PHLbh7+QNeKIYOhOoiEEAYxC5VxUzgWOcD8UPJfL2FfurH3H0FjSR+PqwZIXC4uNnqYJ5cmSrucoi49GC00W/vLdqYWdVxnA4hsK+g0WRjnliRrJaRold5VKra4dqUffrH3Nxag1JKkDjGvygCwyBc/1vZuVqDOEzur1/3nNq59cjmhLCke1b8yVft1x8V2NBWBy/Rs7LDG3zAcejDQ6WHiprkFE4RnQkPvsuq2XK6RmSyiEsPW87U/nC6Bscg2YnzUgL/PqvqREUbQkj0NIhwF61mx0/Ztd0TSgIAWkyOrWdqk0PUYi+5g/L60q/2fCohpQ9d/VigT1A/Z0ebw4phWHhApKA6adTXHzl38KejPza21cML3ggMwhD/8Bkps1dOu0olF0dNGCxCnx8pJ1zlAjt3KgCgyWg/UNS0Kj1EjKkUcYkZ+YNFzRY72yUfGoTAYGWOlrbMiPUTRYMId1HVauEQ6p6kj6+TeaqqTewi9+Z429ajm8vqSu6/8tG40MT+N3iq+ASO4SF+IZ21AsMyPx/7Yc+pnadLTkpICUVQGIajC8VfOITK6orzK3O/P7jx2dteHBORIk5+QpILVLZau5V3Ob9hqLfQBhvjUfEXESJGOCwOpsVVn6i7bxvDYK3eynL99zSwtPMlCAgATg37mVoRAwU5hQtW1OAD3aP8Lo+CgYwD2NuFsw5BCCiF8JHgTn1V31r74+FvpqfOXjRhKY7h/Q9PyS49LaVkaTHnU0+abeaS2sJ/fPioyWaSS+ShfmFRQTHLp6yOCIjqyN5lp+1nS7IOZO8tqyu+/7Xb3njwo9ToNJHh3cdTISEEUwVDV3QYiV8eSotjAWsXrqYD0HkjL4rOSwIEBl11ZJCghqYIDMD+B0JWZ4Li3QDiAmQiZSBpBdAlDNgPkqhB1EwnR7sDp4A6VBzywVx1ofhAVYSforrVgnVLeiqniPlJgZdFRzTkgN3PCikDBAgZmHgriOktMyMC6NNfPyAJak7a/L43JuR+TsILJ3eyAY2T8Aez9yKE4kITFFIlzdDl9SU/HP72l+NbVXJ1RvzElKi02WPnx4cJ+DPiQxOunHHt94e+3rDrk39t+McztzyfFJEi8rwzMAhvmBzx+ZHy7gcsFRJ8UpSPnCIuizxRhlqQ/S2gzQAIJVxKXgVCxg9YBnqpFoRP7jG5k2+sqE4GFYEa6bRY/30FTV2I7cqrBiZF+UoGoM5N+SGw40nh47NyH+AXO5CiQZcI1m3qcVFA9rXSZezAWN8D5yCQqIBMK5Km51UXn28n5U9fnjI7mM4ZsiGE02L9FqcEXRYdYawHZ38EFCWgByQqEDuvD43dVHkwe9/Y6PSFE5b2fQombCK4+bsezTGlAADsytrBsPT89MX8fsTmQ5tqmqsz4ifNGjt3ZuocPwoDjAPoq1xpSS/WgFI1LvO5ds6NLYbm7w5ufPX7F167//2RUGh7JIkGcMfM6Nya9tza9s7nmEgcWzEuZOW40MslT5S+Auz7LzA1Ckzkdg6ogkHwuAFLkxOUCq5+D6AeaosQUqEFamdhwQBLi1NSdx8X50pZ6ZyVoBj+3+PKEEK4bGxwZnnrgYImvnRFx/sLkgMXJAXgGOy3aMBIQMmEEy6RioHcm0DI+S0K/z4+08sz3FYOfnxA+JYwAqRe41wmiuiVUgvHBL6wJu1/vxYUN5oIHOMN6LqpkXfNirlcsvNiOCAgIKUC3CMkAhlpLsavJ37GMXxi4hS5RN7HlMM3SPRW+ryopiC3/KyfRjcxccqr3z2/9/ROtUJzz4oHZ6TMDvEPAxyN3psPJUrQXXcwdph+A5p8F3TllDxReKy6qWr/mT2LJy4Ved5ZDY8JVv9vbfobewp/yannXGfWFRR++6yYW6dH61SSyyUdNcSdSzJKIUBvZAD4wBp5Csh9vW/B0gT2vwTqzwrYecYOEq8AMx5yPlYieiA8QijaX/Gfq8a+sadoU2YVwyE+E+uq9JCHFyYEqKWjKk9D/0uv2o2gdH8P+fUoEDpBJI0bay+4Kj00OUSdV2c02xkEUKxOlRysVkoJMZ+/O9hzaqdGoV0wfknfGsuNzvzpyOY2Y+sti+98fuOzp0tOJoaNuWfFg2MiU3HeuLMMLDkEZEIeONoKIqZA1z1ISOnSySvf/OF/h3L2iqKh+8IrOUT93NVpV2eEtZgcAIDEYHVSoEqwLLKIoTDyvYO2gbrToOyAwC42bQW+0T36MER0on2IVvaPZWNWpIVUt1lwDEb4KpKCVOoLSQVHkGhgOFTaZGqzOPhD55OjfQeckucTlAr4J/DB9lk1Ge3lLWa+4k6IVhbiSYFs15lGe1mzmUMAgyBQI+0oWdZPWGk2t6adQwAB5Keg4gJUfepQCGFcgCpGp+RzwPP1hEQD6g5K60paDM3JkalBvsF8f+bVGYw2GgBI4DA5WCP1JG/KoZz9R84dUkgVmQXHCqvzYoLjn7rlOX+17vcJD7j2oHtyrcHfS6AtGL/4lW+fb25v0pv0nZNeDyPMDja3Rs9X1AvSSCP9FAPV8rHSFp6xOpUk0k/RS1Xi33OBy6kFYwIvEN7ZZyLhR67sgLiwnceIEb4xQbPcuTqDnWYRAv5KSZR/b+R0H3aGzaszOhgWuYLPUoLVWK+c562HSkpOj/XjkF9nI89/YKSIhtIm031fnDxZ0dZRxSBYLX31hoxZ8f6XAJP//dO5Dw6W0izXsV6/a3bMY0sSu5QS7gnv7i/5344Cs4PpuPzGKRFPrkxRSvo1fF9nVj7xQ47Jfr5ZAoPL00KeWJHci6DpMJQYvCifkGhA3UFRTb6T2H6hAICyZvPj3545VNTMdyMEINxX9n8rUlakhbjTVJuxZUfmT82GJhInC6vzAn2Cn7/rVY1C2zGZeVQvRy3XwvP/PWDrMIbltpypza834BhkWJQerp2bGCCncHdu7MODpa/vKmw2OzrucM2E8KdXpXTOC+kFdp5reHhjVpvl/GkvDIDpcf6v3zA+SCMSXsRArtQ7impB6C5Vsirb1n1wtM3i4MPFaJabEaf76NZJfgqqPzdztLTlvg0na/RWXn+wHIoPUL73h4kpIZre14f8v7gQ54mR0MUGK/PyzsLjZa18bnkejUb7v7bmfHTb5IFaVQ8XNmVWfnGsgnNt//PvcBz65FBZRoRPl3JWgtid1/De/hIrzfx+OUKbMqsSAlW3zYj2WoqeLG99dVeRxcF2NIsQ+vZEVXKw+p45sV0ye4gYEFQ3VUEIU6PG2Rjwzr7iA4VNFIF1SPuKFuurOwtjdcoxwX1kW3Iwjh9/+/5g9j4JKUEIhfiFvvbA+50Vg4drM+caIjwgiuXYAVwzLXhp37k6A4FBPhetxcEuSA785NZJWnkfRvBQUfObe4paLXRnZn6dWZkQpLprVozXlaKKGo1P/pBtsDGdm915ruGVnUXPrk4RK6eIGJC5zGRnChqMFS0WzlXfLMxHnhSk8u1r4q9tt/3x85MGGy0hzvOQxLEjJc2PbDy1/vbJmLcKtb7ddt+Gk/UGW8dTQ+LO5cr9G7J+fHCm1ylGRsTcsCu/4atjFUop2cXPlFdnfG9fyaimUVmT6dMj5R368XynY9DGsK/vLqxrt/Z+ebuV/j6ruqrVgnc6n4JB6GC59w+UFDYYvbsrg5X+6FBZWbOps58KQkiR2LsHSqpaLeLzPxioaqxwLcHZ3XlN6w+XdSgGvvNJAjtTrd9yupYvjNQTOI47knvwqz2fUiTFIc5fo/vnTc96rRg6UNdaQ+AkgZMDYjr//v3ZshazQkJIXAVTJCTuo6D25jd+crisLz3Erf+trNFo78JMCYn/+6dzOd6mKqdZ7l9bz1W1WeHFakklIz84WJLv7XMkQkRn6K30v38+t/jl/Xeuz7zn8xP3fn5i+esH/vRVVn27rfcLH/4qq7rN0iVvnpTEfz1X/93Jaq/v5+WdBXXtti4liAkcK202vbff+4l1+EUDAmDj8UqyW3ZiCCGL0OkqfVmTafTSKK/emFWhp7pVjqZwPLOstbzZgnotD1+rt56pbpd0W/eTOJZXZ8itNXBeVZcvajSerGjDuylYAsMqWyzFTSZuBBStv/TAKz8bzR4va+VQt3oiAOAQ5ta2t5jsPU5+DH0we+/bW17lvQJSSvbgVX+OD03qp2LQm1odjENGyVRyVf9/5uHi5m3Zdd3vRi0lXt5Z2GS09yaym01VrRbY7bgHBiHDoUNFTd7dUnGjqbrNIlDDxTkocG9+o0hOEf0Ey6HNp2q+OFqpoAi1jFRJXS8JcbCo6Z19xb0t4Wx0dk07gQvMxRIC/+p4pde39GtufU/5x/rD+X5vT8h9gS5J+KSZVA0opTuqQW+h8R4y7NkZ1kKzo5dJDoaz0ixFkN1/GoSw0WhDvWZFcTCc2c4IzgcUjre6Sq9jnqels9POuxKsckTisNloRwgAcdNWEJQCBIwRSgriOmMs0fRtXBDSW2nBfSVXQm6W7dnT8ONv323at8FkNQb7htQ0V6+ZffXEhKn932LPKj4hJSVhuvABOTd7qlJPs0jw19EMtzuv4frJEb0QnuGEbwDHYC9yqneY7IyD5QR/FQah+UJYjwhhkDLgF+c09d0DCR1mINWKxoJ3M7y0Ix8hhHea/p1LXw7tLWi8tqY9NVTYODQb7b1sQNT35Y3uBWYH29OzbO3HrNpv0ZC8GkTNFCYNhgGFru8WIIjWKbKr9UT3M8AIaOWUj5wavUxSSwk/BeVgOaxbJlqKwGJ1yt73q6QkppGRjQZb9x5mEYrwVRBexTSoZaSfknKZ4K6XcwgEqKVimFePCMkAf/hROAwbwt7ziMSFJh7K2V9QmR0dOllQGSCENDJK0kNAyaZ9X2zc+5mDcVw758atR76PD0tcPGEZSQzAhkJm/lGFVDkhYcqAhPjRLNeT/wxCQPSqcZVSUu46zSjATA7F6JTe3ZJOKVFKCMF74hAKVEtFXvfafUlgzQeAYwXsPOKAMkBMlwQAyK8z1Olt6m6BAhgELSZHYYOxJ9EQ6debGZ8Q5f0pwiC1pKLF0v2JhhDqVJJhEg0IAZm2j0SKvSdcctHw1mlRmzKrusQi8YmDJkT6eHQ6sd1KHyttKW0y8cdLlo4NClBdsAgSBYiYJnwCDSeANnwwmJQUrJ4c7buvoIkiYJcV1eKUoGBNH9Yq1Ec+Mconr87QRVHRLDch0icxUOmdiU8KUk2O8jtX27VZhuPiA5QJgUpMVA09kZmSA/847wifET/pkx3vldTk3DtdqpaR9MVSkj+OOzHKp/sZAYZl3v/5ze3Ht0KIPX79kxUN5W2mtuvn/yEqKLrV7NieU6+3OpwEx7FJ0X6poerzzUIMRE0X9vaxdqCNvDAZcwey92gVPhMTpwxIJ02I9FVICAfjEJyhp8f2pqui/RWJQapTlfouDg+OQ1o5uTQ12LtbivJXpIVq8+qM3ZPjSghsibfNXi6cJ6XAJ2p03C0hAUEpgGMARgpw3i9u8PSNjWZ7OsrIIdRLoBKOwZXpIZ/9Vi5ozO+YGe31La2ZEP7C9vzuMh3H4KpxIcMkGvqfcMmlejIiff66JOm13YX8GovvO8yVnPiB+fHu305BvfEvm067yi1Cfqje3Fv08tr0WfE6J/V1SeDu3f3RN54/bihEK7trdkxpk5mPeeQj1REAOpXkthnRvR8hQwgpJcSajLAjJS2V/EbvhcOyPnLy4YUJ0V4tvBBCBI7dOzc2p7b9bLUeuxC9D1x76vfPiwv1MIfEZYR+EB4hlBg+Jtg3pLm9qaB461+XLv7PT2c6jj4jhDgEZiXolruOXPJzG/9vc3vTmz++fDhnv4SU/r/bXkgIS/rvV88kho+ZmTKzsMF83XuHO0cJ0Az74rXp66ZG4hh0GtD7DvdJ+F9P/sxxXJguXEbJBiT9wJxEXZSfXG+hO7eGXHZz7cTwEG2P38K/f+esmMyytrJmU0cn8J364rXj+rM8+ueK5Nzadj4MqKNZO8P9c3lysEYi5l3oF+dHjr5RBYMVrwzLl6eEalyHLbuVN3OV+uv9AMUzq1JPVbRl11yUrRwBcOPkiPRwH6/Jec/cuJ/P1ubVG2GnZp0TboTPzdO8V4H4008/PdwDjUgcm5WgC1RLz1S3UwQuIXGFhFg5LuS9P0ykCMzNLmu30v/Zdm53fgOBYRgGMQhdm6COylbLpChfX3dOeA/048HbphidclFyYFZlm53hXJHkWGKg+s11GdNi/TvmjF4uD/dVXJESnF3TbqFZCYFLSTxGp3h5bbor2wzywp/MN+ujoNZODM+tbddbaL7ZQLX0uWvS1k6KwDAxWdNg2F5nf8aFxG/P/LmhreamGROSQiMKG804BqUkrpQSS1KCPrxlkkZG8p1PM7TB0n4ge++T6x8rqSkcF5vxxM3/b0xkyonCYz8d3bxw/OL5GUsf2ph1rtaAQcAT3pV3CB4qbp6XFBColvQ9gq4P/PerZ8w201+vezJAG8hfQjO01W4x28wWu9lqt/Avu8PGIY7AiN6b5W9+RVrI2er2eoON5c7P0ASOzU7QvXL9+M5nRgSZqVNJb5gccbysxcZwJAGlBB6slb21buKSlCCvHWAIISmJr5saWdhgbDLZKQKTkYRKSry0Nv2W6VFYt0LAIkR94wXBGgz23Jr2zrkZeBM9Kcr33jlxPZ1jRwhhGFw3NbLJaK9osUgIzDlNENgLa9IfXBDvtSnmJ9abp0XVtllr9DYJgUkITCEh1k2JfGvdBP7WvGsZohEQJ9/RL6VNpsIGI4dAkFqaEenj0aT4S3bdfV9kMVzX6IF2K33HzOhnVqUqpcTw/rpfc+tZlzt0crSfUuJu3uWOjx0padFbHSSOTYry7Zha+n9Xh4ubDTaaxLHx4Vo/pcQ7ISLC/T7/Ytcn3x7caLVb7ll2p9Y3w0ArJaQ0zEfOb3k6GIfFZm4xNOeWn913etex/N+ig+MWjF+8ZvYNKrkaAPD3Dx8prM574qanG+xxf9l0Qm+luxDe6mDnJek+u32KO7kHvj3w1Ue/vJMQNua1+99jObbF0NxiaC6uKcgpzy6vL7HaLbzTDiGklCnjw5ImJkyOC0kI9gvthSEd1Pr3T+eOl7W6FoBgZpz/Y1ckYW4kD+34wMmKtgaDjcRhergPX+ihP8x0Nets4HhZa7PJJiHwsWHaAJfrQpTIIgYEjUb7Y5tOHyltsdHnIxAhAJOifR9ZmDA9zt8dmp2rbS9tNlM4lhHp468csBoZRY3GgnojQmB8hDbMR95Pwo8I0SD43Hr0w2iWe2tv8bNbc1VSsvuf4gOUX949bRi97v38df28fIibFdEndp785bOdH1U3VSZHjJmcNMVP5c8ixLAcgNBsNdW31eWUnSmrL40Nic+Im7ggY0lKVBp/Icdxy/4xJ0wX8eGfP31td9nz2/IIHHYfRAfLlfxnuaKvhKHl9aVPrX+8qb3xtQfeV8nUmQVHjuUfOVuSZbFbgv1CA7QBPkq/jqnabDOWN5RVNVZMGTNj2ZRVs8fO7yUGs4NIBittZ1gZRfDZSz0VygPOTJHzIgYVJjvz/v6SY2UtDoajCCw+QPXAgvggtdR9rTzYU0//QYwYxxLs851ewHLI6mAFvZcQABvNcdzAaKOiBiOEAMdggEqqcDuLcz9/XT8vH+JmRfT5DC+asNRfo/vl+NYjuQdzK3I7hDsCgMAIf40uOTJ11fRrUqLS4kIS+LmZv7C6qdJO20P8wgAgrA6G5jiSILoPosXB9kl3q92ycd/nlY3l1827uby+ZNuxLflVeVJKOjV55sSEyWG6CB+lr1KurW4zOxgOAegnR+3GhuyyM98e+OrNzf/DIDYvfVGf1HIFk5Oe2q/BY6bIeRGD+nQrJcTDixKq2yw2mqNwLNJP4WalkkHi4WA0S1waoyUl8Wh/hWBKIhahGJ1CRvU3TWx2tf4/2/Jq2238IOiUkvvnx82K1w1ITRERlwk6whvHx02MDY6/Yd4fCqrzWNY5x2MQ+mn8fVV+FEGp5RqNUou5Ir35z/MPf1bxCRIn/dX+AIBQrUwro+xM16PYDMeNCVLjvRoLhmW2Hd968OzemJD4vIqcnSe3WeyWZZNXL5m0PMg3WC3XAADKW6xPfZNb1GjiI8xc1jDx2jkp8aEJj3/w8IZdnwRqg5Kjxg6v/RIhYqQ93RiEEb6KwXYhDCOIS2b1lhikGhOkrmi1dJ7FnUMI4BWpwf1M9tBmcdy74WRVq4U/P44AKGk0FTUaN98/M8pPLlpDEV7oBrVCo1ZoIgJ/D2N2hTPCLsTu/I7VbsEwLDwg0lUG1i/ST55fb+xyospOczdPiyR7TYdwqijzw21vsRxb31rLsEygT9Bfr3tiYuJU/EKWNpZDd392LL/O2EF4AMAd649tf3j2hIRJj6z524tf/3vP6Z0xIfFSSkxyIEJEj8r40psdsEtmnMaFa5elBWOQLzJ2HgyHlo4NXjY2GMf6Fb3xj+/PVrdZ4YUAdQxCDIONRvtdn2ZyYsJlEf2wLDiGd7y6JjmGwlkjlTI1ACAxSDU/KUBKYr/vbiDkKo7nv3ZiuGBWWv4z5fUlz3/9L4ZlIIB22p4RP+n9Rz+fMmYG1ukI+80fHs2vM15EeJfWueqtQ60WdtbYOTNSZ+8+taOysUwcTREiLitcIpm8eKfQP5cnv3ljRqxOqVNJ+Ndt06M+vGUiH3rtteIrajDm1AhUeSBxLKuybU9+g0gjEUP0uEKMZdnc8jM85/+xPPn5NeNCfeT+SspfSfnIqZumRn5119QAV+BV98s5jiurL/njq7e2m/W8RLh2zrrn7nxFenGGhqyK1tNVesE1k9nBvruvWKPwWT71yvqW2qrGCgRE1SxCxGUE4pJZuvFWclV66Iq0kNp2K0JASmI6VzrI/hYAbLfZaFbweopw6oZFyUEik0QMAUL8Q1nEthlbOzh/TUbYqnEhrtRhUCkh+BwygoRnWCarKPOZz/7OchwGMRzDV067+vYr7unu1ahstfTkP4MAlDWZAQB+Kv+ooJjciuwZqXOklJgNTIQIUTSMQt3QkSgjzEfe4YGA/c7cQhEYjkHBEk4IAa2MEmkkYmgwJWm6QqIsqikoqyuJDo7ldQOJY30GXrWb9ftO7/pkx/s0Q0MICZyYO27hugW3koRAwg8fBYX17IL0d+U2UMlVWpVvk76JYVlxXESIuHxwqRUacWdX2FPE6pTd0z9cSLkFZ8brRBqJGAIghChSsmjC0oa2+h9/+5ZDnDuBVxzHnavIeWfLa+/9/KZMIuPTPqbHTrjtinvUCo2gwsiI8NVIhXMwIAAWjAk4n+YWcRgmnh0SIUL0NHSBqQGUHwYOk8BKm2NBcBoIzRiimzU1gPxtwhWnMBwEpYGg1MH4Wp1KsnJccHmz2cFynd+30dzds2OSglT9bL+0yWR2MDiGBWuko7qk5yUCuwkUbge0VXjS1ISB2PlDdCf6SlC0C+Dn52/+8btOC7MIdtfpXZGB0SunXU3gvT3CFpt50/4v9p3eVdlYMXPs3LHR4z7f+bFGob1j2R/9Nbqetu1UUuKRRQmPfXu2y/s0y61KD5mXGOA6XsGxHOuFYuAQKmky2WgOIKSWkaFaWU8xmyKGFPnbgLlJoJ4T4oAqEMTMBcSQHJMx1IKyg4C1C003DNAlgYgpo66oJsuh+nZbq9numk2kQRrppS4aWsvA3uec9qu7fWHsYPZfhk40tJaBrY8AUqjHCSmY9efBEA28YX1wfrxWRj3xY07HmxxC/1iWdMesGLwflRqyq/V/3nS63mDnAzIwCG+dHnXP3Fg5RYhGbNhgbQO7/+VUqEJsAPGLhk401GeDLX8CEmXnhb4OgIcI7GkH/vmu9Sarcc3sG2USgZCC6qaqHZk/7Tm9s83YopAqH7jy0VXTr/nr+w86GMctS+6KCY7rnfBrJoZrZOR9X5yk2fPctjrYP86NfWxJEj/HWx0Wi83sabb/8hbzPZ+dqNFb4QVjOiHK939r0wNUEpF3w4zDr4GakwJLMo4FkdNB2OQhEg3NRWDnU8DaKqAMaBuYfAcImwRGlco0WOmnt+Zuy64jL3jllo4N+c/VY4lR66RzY3JCHGCsgLYIjyJHD93NIs55G92jtRFy/oljBuM7O9TAH6ZHJQap3t5XYnUwEgK7bnLEFanBRD8Ug97q+OMXWZUt5s6XP/vTuUid4spxoZ76fXnZ0blr4MX3L8L9vgS0FTgsAjOi81mwD92NcKyT8Bh+8ZiidAw8SVa+Ykfrf/1oV9b2FVOvSgxP5nlosZlzys/klJ3JrzqHEMJxfHzchHtW/ikiIOpU8YnimkKNQnPNrOtAz9zoyJm/JDV4xyNzf82td7AczXLzkwLHh2s7aNmsb6xuqlwx9SqKlLjdreCRjafO1Rk6Z279Nbf+he15L12b7p2abzbaS5pNLIf4mixiTmjvwdicnMdJgfU9YwNDdkYGseefPqxbOj7aClgHGFWndRiWe21X4edHyuUU0eG63JRZSRHw31eO9W4R293ID7GdF1e07koHhNCUGL8pMX7dLZd3bT67JbeyxdzlTaWUePirU7PidJ5WAW402t/YXbQxs7LF5ODvaFV66AoJmhIAAC6TSURBVONXJI0JVovDd0kpGgQBBBlc04fz733NqMjM3v3J9vdohu6wHxRBSSmZVukzK3Xe8qmrooJi+fe/3vu51W65e8WD7vD2fE3OAGVcQFx3wjsYR0F1ntVuHRORIhhKKYhXdhacqtR3yfUuJfGPD5WtmxI5PsLHo35otTie+znvi2OVDHd+0zAhQPnmugmetiNCxOAhp8bw/PZ8v4tLT3EIbTxeGeOvuH1mjKcNvra76ONDpVWtVlctTTA+3OfJVSkzYv1xCETRMISw6oW9rAgBnACUss9lmRcobTLl1hpYhIiL49QxCE12ZsuZmjs84ZOdYT8+XPbKzkJfJeXK9u/Ejpz6JqPt09unDGC1NBEjQL+en7wlUuVfFz1aP/eGo3mHm/SNF+wRF+wbOjYmPToopvM0X9tSU91c5a8JWDH1SmA3Qo4V8qMg50KTlPey6cATvt2sP1t6alxshr9G5+ZTwCH07YlqTkheyEj8y2MVHk32dob7+FDZhqMVJIFRxPlSWMVN5r99d/bdmydG+ytEnoi4iNiMFTAOYc5jOKAUgxQn8e6B4u5B9BBCq4Pdcqb2tpkxHs0fHx0sfXVnIcMh3sgjhLJr2h/8MuvLO6cmh6iHzNkwJKKBdYDmIpePS+DQIpCogX/8cFJq97PCjEHIeWNT7x2M72yzOKw0CwU6BBAYrG6zetRaSaPpo4Olvgqq8zKOxGFOjeGtvcVPrUzx9llDZgdrtNHQVQ01UCPFRN+vmyjcAdgedu5IGYhb0F/pcGFHKsg35MoZ1/Y0fB3njTPzj7S0N6+de6Pz/WPvQUOtAOf5uOZx1zvvsJfp33UcI6so8/p5f9BpA9y84Vq9tRchUuUh4fPqDB8fKsNx2EFICKGUxLMq2t7ZV/z0qhTvooJYDjUYbM0mO4ecj0+IViYGJnswMTfkgNZSAHEBIy/VgJB0p6kfFrAOkP8zKDsksPmCOKDQgRkPAUo+GN9c02YV3GeGENIsajLaAlTuRopklrW+ta+Y4VBHnQSe8zVt1tf3FL29boJ3zgaWc95Go9HulE8QBKql/ipJ73aeGKKl/M6nQXu1kNBjQdhksPqN4aT7wVeET2QgFsQtHCTRoJVR8h5qaHEIeVrFe1deQ6vZ0UXSunjJZZa3VrSYI/0UXpDp68zKg0XNFgeDQchyKClItSwtJD1cK1rIvvHTn4HdIPwnVTB44NjAeB368En8/vfy+lKDpX1G6hzAMTBrA6g7I8B5lgGpV4GUq3oXDXba9tORzTpN4KTEqRLSXZOnU0lJoofM1gCF+cg8YmZ+vaFGb+0+o1MEdqSkpbLFkuT5rpydYbfn1H97srrRYEMAUDgW7iu/cUrELPFMtVuigQOnvwTHPxQgD8eAoDSw6lWgGybRwDGgeDf47T1AEAJ/0iWAKfcMkmgI85GfKG8T/JOMxD2SpHvyGxsN9u4SRE7hP5+t425EOPBYNTgYbvOp6h059Xw6RAzCUB/ZqvSQpanBZM/RpkMiGjgaNOWDlhIB0cCxQOY3zHQnZQIKlL83YrAc+9E6RYSvIrfG0GU/GCFEYh7nfmgy2gXPrWEuP5jB6k2w6q68hqe35LZbaaewdeUK3lvQeKSkZf0dk/0U4n5HX7Dpga29B77Jh3qhxbHNhiYcJ4J9Q13lt6XCnGccgKD6PBBxNO/wyaLj05NnjY1Odz+sR0JgqSHqimYzEhIBV6QGe2BOEDJaaVIo/xR07e7ZGc4Lp1pWpf6pH3MaDDbnMstVpCuroq2kyfT2uglxAUqR0W5MQRZgbXN5lLtNzHaD05wOI3AKkKSAoGFp16mQwXKgLkkJ+vZkFXVxPiSEEIVjKSFq0pNjICY7TbOclMQFOG+jvSustCuv4cXtBTX6390hp6v0ubXtPnLJrHj/nq4amrMrEEDcubIRfuGX4fOFQbg6PcRHQXVb7nCrx4dF+nk2r6ilpGCtAYSQQkKoZKSnt1fZavnTV1lWByslcRLHXDvHTl5l17S/8muhaB7doDwm/HI+C0N9YMxsM1vslsiAKAIn+hl63tze/NYPr/ip/JdNWcUf9XRHMfDkfGJFir+S6kJUhuXGhWnnJwZ49OwopIRgzQuEkFZOelEHv8VM3/1pZrPJQeIYgWME5voXhwX1hjd2i4R3k/OwB85jLiV6Oe5sLkwOHBOsZi5O8AMhjPKXP7QwoePRcAc+CqpzdbrOnFdJcC/2jWvarBuOVtS2W0kcEjztcYzEYXmz5bMjZS0m+/CKBhECWJ4W8uaNGTql5PxpSRdunxn9/DVpMhJHHlKTZgXIhEE4JkgV5fnexMbjlWY72+XYJ4SQQ2hXXoPD85WciOEEcrIBd6WB6qflfmnTv41Ww5Qx06enzAZun37jhUWQRrrtoTnxASr2QmULq4O9fnLEhjunYp4UocUxmBqi0cjI7jXkaA5NifYL03pcC2N7Tl29wYbBizUQBBwHcmoNRQ1GkUQivHBfKSh8/e1TJkb5dthMjkNpoZrv75vJl4lxP3pxWoxfsEbW/SFxuI5DeyEayltMR0qaceyiMguuHPNwd15Dg8HW04VubE/4RIO5fwd2o/DmQuiEoRsEn2iwsof4A4iDsAmjjlKzE3T7/jp/e06dyc5gEKaEqCdG+XpxkjMpSH3bjKjvTlZfVIMDwpQwzT1z4rxoMLemvaePM65gsXBf+SX7rMt8wIInXBlBBMYM+EQO3Z0EpYJVrwFcaOOTpUHkjCHumC93f5pVlBnkF3Lf6kcuzKqeET5ALdn28OwdufXNRhuHwNgwzZRoPy/4GRegvGtWzLv7S3ipwZ+IhhCOD9deNylcLiE8bbCq1YJ1K1IDAUQQWR1sq9lx6U9xMx4CpgbhjJDqkKHbU/NPAIufAbRNaLphQGDqKPJM83SK8Vd8c+/0vfkN1a6cZkEa2ZKUIC9SAk6L9V+dHrrhaIXJznQ8UBBCXzn12BVJXrgaLC5ia7vFVWAQNhkdvezxEX0+6EAdDMav6+MzQxBUz9/JtPuH/04GjlIIIZWUuHZieBfb6unhGRmFv7BmXJBa9s3JKjvtXMhJCCwj0ufl69L5nQtPG1RICYCE5wToCje7hFcHQKICGTePCML7xoDpD/b/TiiSJAjK7rB5vTdhd9h2ndrx+a6P/NT+T970/+QSuRek4gkvIbBV40L6Q3iEkJwiHl86Ri0jfzhV02C0cxySkXh6hPaplSnhvt7cm1pGoh6cNAQOpRR+yS+KQerVfX9msGmPXGnaJ9x6ifkbKAJbcnHUjhechxD+fdmYWJ3i7X0lTUa7c/LGYaxO+cyq1NRQjRc3RuKYjMS734nr+cLxnrMLEn0+6O4Yg6GZY0fKnQy0FHXnzT4pReLYY1ckzk3U5dcbaBb5Kamrxod5nX5q2djgH0/VYECgGFKIVhaoll6y1nO4aWZz2Cx2c4evHoOYQqakCMrrO0EISSlZmH/YkXMHm9ubIvxDPb0lk9X4/cFNX+35VKv0eeDKR+NCE7zOaTYghOfFB47BB+bHXzMhfPe5BjvLhmhkS8cGe034xcmBL+3IZziEXRyVDCGI9JMnX/IZ0kaIdb0UT3QPIOchBGsnRaSFaw8WNkMIfOTUvKSAXqrh945QrWxcuDa7pp28+LAmzaJpMX69ZPcRkztdIrzk9yO65Kz02rgvGxu8Kj30h1M1nZ0KfFjlPXNi+5kKU0R3WOzmvIrcvMrc+tZas62TaMAwlUwV5BsSHhAZ5h8RGRjlhbkBAKRGj/v15C+bD3390FV/9kiONuobvti1fseJn2NDEm5aeOu05FkjYeg79iOCNdKbpkX2k/AIobgA5e0zo9/dVwKxiwy6UkpckxFG4phIeBEjQXwghJKC1ElB6v74LXhE65RXpAbn1xs7X877AlePD+1lZSiKBgCCxvaQp4EDPtGXm9OiIx7i2dWpCYHK//1awO/1shwK0UpfWps+I9ZfLGkxsNh5cvuuk7/UtlQ36huklEyn0UEM47eHaNpR3VxFEZRGqVXJ1NFBsWMiUxZPXC6XeLbHPD1l1ncHNv56YtucsXPTA5IAQEKliWigjey8q33g7L5N+zYU1RRMTJhy+9J7YkMSRs7QDyDheQny0IIEH7nk9d2FVprFXDG/cTrlU6tSpouEH/XzLQbUoSAoTeAIPcc4OT/a4iT6T3uEEIHB22ZEaeXkqzsL2ywOPs49WCN9eGHCqnGhvURdeBC07D1s7eD4B8DSIrBJjjjgHwcm3Tmc42Bq6jGgC6OATHMZPmU8Xew0e6ys9UBhE81x4T7yZWODQ1xx6eKqq2/k/dRbRsjEKzp6+sNt7/587Ae7wzYpadq89EUJYUkKiaLjPCECwEHb6lvrc8vP/pZ7oKSuiCIordJn1th5a+esUys8IOfhnAP//eppmUR+78I/zJ+wBDDdgvsQcFpViRJArKyu9Ms96zMLjtAMPWfcgpsX3RHsG3LJDz3NckWNpopmM8MhhYRIC9PwTlqR8G6YDA6c2wLKDwtlXWSdc3baWqAKGi5zBhwmV3Cl4DyMA5l21JXbHigjz7Bcjd6WW9vOIURiWEqoJlgj7T1Oc0hEg/MrevkWOJxbWX1G94yq4MrBIBY6P0igs1tYNJJucL639QL/vxt2frJx32cUIfnztf+YkTq74yxA91Hg/8NsM23c+/nB7L1VTZXJkamPX/9UuC7CTesAAHj7x1d++O1bhUSxbuFtK6ddLREqUFnVWL7lt807TvzkYBwUIblnxQPLp17Jt3BpD33Hb+yygBMJ7wnhR56dv7wNuKecd8fID4loECFCRDeUN5Q+8fFjGIb9985Xg/1C+5ycOn9g65Hv1+9432wz37vyocUTl7mzW8FffuDsnue+eppm6Oig2JXTrvbX6DjEAQBYli2oPpdVmFlYnU+RlJSSLZ288pbFd0kpqThrihAhQhQNIkQMM9bv+OCrPZ++8/D6mOA49yfmjk+W1hV//Mu7B3P2LcpYes+KB92pHcVfm1WU+eXu9bUtNe1mPcMyHd8rISUqudpX5ZcSlXb9vJs1Cq24zhYhQsToEQ2VR4HNIFzMVOEPgsYKF4wQIWI0oKa5+l+f/1MlV//rthellBRwDGjMA+21ABPKriP3A4EpHZnzO3YxGJb5cs+n3x3YGB0Uc9/qRxLCkty/gdzy7LL6EpvDxj9hEEClTB0VFJMQliiOjoghQmM+0FcIxxNwDEhYchmGGoiioR/4eCmoOysU482A2Hlg9ZtAJpZbFDFasf/M7mc//+dDV/91+dTVOIYDhwX88jg4u8lVPudisDSInglWvAw0YYIuh91ZO77et8FO2+9f/cjkpGnu+yq8/oAIEQODX58Ex98HuFBKALsBPNEgnA5VxLBiBB+5tLYDS4uwaLAb3E57L0LESERze1ObqTUiIBI/f9zLFeBtaREWDbZ2gLpmde2IV1qQsSQiIPKv7//po1/e8VX5xYUm9LFQ6EsQiIpBxBCBtgBzi3AxYbtZ7J6RiRHs/OFrpmF41xdfNk2EiFELO21v0NdDAAmCdIvwPThpOyKf48OSHr/+yaLqgne3vl7TXC32sIhRgh4476S92Dmip0GEh7A62K1namr0VgBApJ9iTmKAn8J7Z11Zs/lAYZPe4sAgjAtQzk0MkFG42MnDAoqglDIVAqj//rIOr0BG/KSbF93x7tbX0mLGXz//5h4zT49gWBzM3vzGggYjBmGQRjorThfqI/O6tVq99WBRc127FSEU5iNfnBKkkYlRUCJGFgxW+mhpa2GDgUNIQuArx4WEaL3nvNFG/3S2tr7dBiHUKSXL0kJ85KQoGgSAEGLRefsLIexa33Z0orrNet17vxU2GEncucpkOeQjJzfcNXVipK8XrX36W9nTW3JtNAchQAhwCF2RGvSfq9L6Y5RFeE1XCKGP0pfAidzys0kRYwgPQ3oRQhy6kLwBAr7AHUVK5o9ffPTcwU37NswZNz8yMHp09Umj0X7P5ycOFDZJSaeW5RBSSYiX1qavTg/1osGtZ2r/sul0u43ma0nQLBeqla2/fcq4MI24+SJihKCg3vjXb04fK2t1shQ6Of/67qL/XpO28uKKbm6itMl8w/tHSptNHVPGc7/kfXnX1LSwAQ7+G/V+fhvN5tcbvztZ/cWxyg3HKraeqc2vNzIsN6p/lN7ieGRjVnGjSU4RJI6ROCYlcZOdfeCLrEZXfTOPcKSk+Y09xTSLKMLZFEVgEgL7Jbvug4MlRhsjPrpDDH7SCvUPjwyIPpx7wO7wbEBpljtXZ9hypnbDsYovjlV8n1WTV2fgq/VHBkYtyLjCZDP9cPgbuqd8lCMSRhvz4o6C/QVNKinJE15C4HaGe2ZLTl6dwdPW8usNz2zJsdCshMD51uQUUddue+yb03oLLTJQxEhAu5V+Z1/x0bJWp1kmznO+1ex4ZWfhqco2T1trNtkf+fpUeYu585Sht9APfplV3WYVPQ0X4duT1c9uyW002jBXKU+GRcFa6VvrJiwcEzh6f9R/tuUdKGrml1wdwDFY3WZ9a2/RM6tS3W/KznAbM6uqWy2STq1BCKUk/vKvBVNj/BenBGLi2mvIER0UExMSdzz/SGl9ydjoce5fuCuv8U9fZjUYbYSL8BwCainxwrXjrp8UwW9SxATH7T2985bFd2mVPqOlN77Pqn5vf4lvt923FjP95p7it9ZleNTau/tKmkyOLpyWknhmedv3p6rvmBkj0k/EsON0ZdsPp2ooHOvs+qII7HRV21t7i19YM87Xk83oZ7fmHilp6bLjjGOwpMn82Denv7p7muhpOI/iRtMLv+RZaFYjp1RSUiUlfRSUwco8sTm7omUUB9/uzW+UEAJDg2Nwf0GTR03V6i3lzWYMEyhyLSHxIyXNHCeeQxkG+Kh8JyZMkZLS9Tvec/+qGr31yR+yTXbG5wLhNTISIfDfbXm78xsBAHGhCfGhic3tTadLskZRb/x6rl4tJbpTlOVQaZPJaKM9cVrQJU0mlhM4NSqn8J25DSL3RAw7GFeVE72V7m6ZZSR+rtbQYvLMAbknr1FKCkwZGAQVLZY2i0MUDefxwYESvZXGL+53isAqWiyv7iwcvb/LSrOCO68IISvNetQUzSKa5YQLtQDoaWsiBgR8OMKyyasSw8ecKTl15NwhN+vsfX28srLVQl0sKDEMtpgdb+4p4v9vYsQYtVxzOGf/aCK8Q3g/EbqOVnvEUhvN9ZR6BnrYlAgRgwQOOamIY4IlK4Gd8Xgp19OUceH5GkjaD872ROEOcOZr4XNipBxMvBWEuuFvXPgUsLYKNII4oAoGpAIAcLysVfhX4ZBfeI006C30z2drHSyHEFJJydkJugCVpPtgp4drDxQ2dX8fQuhpVItOJQnWyE5V6rv/ieW4saEacW9iAFCfA/Y9L3zcnJCAtOtAzOwu4wgAUMiUq2esKa0rfnfra1P/8iWcfDeIWySgHhAHlAFA7gcAOF2l56Ocuk+HjQZbk9GuU0mCfEKklKxRPyKW1CYbsy2nzuQKSKRZ7orU4HBfgTIZGZHaI6XN3Y0RAkAtJQJUUo8I39MpCZZD4yPEjHADhJZS8Nsbwkl7GRuYeBuImdu3FE6/wTkXCH6MdQA4KnfP2630/oLGZrMDcymAtDDt+IiuG4UUgSUGqlghacByIEanUEk9++3pEdrjpa2YkAqRU3h/TmQMlWhoKgDZ3wAoRAWpGiQscks0xC/s9c+uoOge9Bh0WaiRRqYDhY03f3Qcv/CMIYBwCH95eHZ8oKrLJ++eFbOvoAmHAr957cRwj77UR06Nj9DuymvokuaP5VCIVjY3MUCQZyI8g7EenPkKUEqBWY9SgPDJAMzu7myAEM5LX3Sq6OSvJ39+c8vrD171Z9cneyM82/MCBLliJF2OB9x1Rmb4d52KGoxLXz3AIgRdN48A+s+2vPvmxT22pGu66xsnR354sJRDqLOERQjJKXxRcqD7SSrPZ7saE3CiotXq6Lr2crDcDZMjRbYODCwtIG8rMDUI2Hm7EUTPAjFz+m4kZDwISe+d86MLRQ3GRzadPlulJy7kgydxeOuM6L8vG9OJpU4xEeWvyIjQFtQbiU7LABeBwfykgEC11KPvvXdO7OHiZkk3+UXi2NpJ4QOb5nWQtieQK4Ed6vpCnLPD3DRnfE6bHl/O3x/lJxfsCA6h8eEja0nhYLkHvsjiT4fyLw4BG8Pd/NGxLu5UhNDsxICbp0U6fxk6X5saOe0pmBLtuyg50NP5YM2EsAmRPh0dxV8uIbD/W5E8sAr0sgZCQoRHPRG+YzgevfZvfmr/7Zlbvz/4dZ+Ej9Epehp9lYTgR9PJLDQiTh3f/NExm8vR2kF4DoG39hQfLm7uQvgYneKplamurvqd8M7VWJDqthkx7iep5D92y/To5GA1RWAdTfG4Y2ZMXIBSLNE3cJznhGkPOHcTkPAJzXrl/OjyMbyxp/hoSQuEsMPOW2j2q+OVW8/UdP7RzkVxgOq6SRF8tHsHRREAS1KCrskIwzEPKjwghBYlB62bEtnRFP8fOAZnxPnfPTt2YNO84k8//fTAd17VMVC8W3h7gpCCpOVANzBFcVRSYldeg4Ph4MULFKWEeH7NuBGVhOCFHfm/Fbd0eQwwCFvNDpOdmZcY0NnwIYQWJgdF+ytcOhQqKMJPSd05K/altemeCkZ+H+TqjLD6dqvJzpA4VErJuADlS2vTl40NxvoqnS7CLbSWglMbgGA+JZwCcQt7Wk7xnT933MLDuQeyCjPDdRGh/mGw5yI9Eb7yb05U02xXwquk5COLElJCNQCAk4XHjucfiQ9LmjNuwTB2yfrD5d+erCKF4nkLG4w3TonsTHgI4fgIn/QI7dlqvUpGaWWkr4K6Y2bMq9ePxzDPKOqU1xi8fnIEgWE1eptaRmrklJ9S8uyVqQ8uiMdc3yUSdgBgqAXZ3wKHWcDOs3aQtAL8f/bOPDzK8tz/9/O+7+wzySzJZLIvBLICISyBsIoIKCAiBQpqS+uP0qpVa+tS6q9yedqjPXranh4vq3Wp6GlVXOgRBARREARElrATICtZyTqTZdb3fc41M2EMmXdCtgFmcn+u+SvXO++8yzf3cz/Pcy/x+cOq3RSl9EhFy68/OqGScd01RggxW50Wm3NaepRGLun+jz8hRT8uSVfR1CnlGK1SqlNJF4+N+8vKfJWM65fmvUPGvNzYeJ2itKFdLZdoFRKtUnrf5OQXluV5p4lDKPvQTrm8Ldu0Znrae99W1rb6Ui4Fz+wkdVKq/qYaDvdfbBT1GyUs2XK8pkcWpfeyF+fF35oV821ZMwGYkh4l88yc+ntHXj1JWOaFZXn1FtvJarNCwo5P1sklrK9ZIhrAG4X37Rgiop67/0/PvrPujx89/6P5a2eOma2UqfzfC6U03ahZd0fW378uv3i5a1VTEGi8TnFPQfJyT8olAJyrPNPWaZmWO/PG3tpXFxo4sfALbx2ny2227pEKXmHPzoyZlWGsNdsIgEEt8yYQ9VfzvpYcD9yS/v+mpzW22ymAKULuDTpDFxkJEgKFssZ2ECstKGGZssaO6lZr7JWVXV8B+BmjomeMiq632ASPlY5SywamUu/xyyck3jUuvqHNTgB0KqnCY+SH3E3mQtqzIwQem5uREx+5/VRddUsnAMRpFasLU/OStDebdbBYXaKXRAixWF2B5qBqGXdLprGHMgYwMnlPGBMh922VofW8efwGADDpY9fd8+zL//vn1z99uay2ZMHku5KNKT1ekNfQrJ6amhsf+faBijqLlQBEa+R35cXNyTZ5d0qLL505W3naqDPlj5x0Y+/L6RJIwFsGbzUqf4kyhMRrFd0lOgCV+s4m5Zi4QZ8NQfoIGzg+zOYUAmmeENLDLA9Mpd7vSlkmvtumczAEz4W6taWUzssxTU2PamizA1CjRq6ScTfhBDpBpygXKx0hCHRcmi7Q3Q354wqqmJBBKSQq8YkVT287tHnTvo0ny47Pm7BgVEJmTspo/7c2IUWfaYpoaPfMJ5SSSKXUay/qW+re3vFGh6390aVPRqoib6xfmGRQBtqSlbCMaJzX0EoUBY9c3/EIdEqZaBwCpTReq4jSyIKq0uumcC48JmpqGaeWcT18rgAunwV2PQvnd4gkyPEOSJ0Bc54BVdSQX+fKSUkHS5tcftHvLoE+MGsE/ssNc7yK1ap1y2fdk5Wc+9KmFzfseE0lV+Wmjl1c+L2spGxfoEPXEpScU1+dlFXVWPni+78vrjr7wJ2PTs2Z8Z3+zdWw87dQdQT8O1wILtClwIp3QKYe8jtaXZj6xr5S1i+cm2XIbVlG0cRRBBky3rsXLp8TD6UkDDz0zZD/IEPIqBh1SpSqoc3efcnBuw0xZYRhpFETHo+WC1OnL7DPRXmwVEPDOeD85jq8HfRpIASl/MvCsXFFl1r/uueiLxXHG936uyWjZ3WLgkSG6zSFXJEEOzZt3F8f3VDXUvvG1pd3Hf1s38ndJn3cjDGzCzKnZCRm+2u70dywcfc/dh7dZnNYV8y69/ZJd151DO+E1kvQUCzuNAB1/0cEgZEx6t8vGfO7Lae7F2cUBDptVPRTd2TjBhkSXFoqoLFYPGmTCVZ339Qo1X98b+zjHxQ1tjt8MTQMQ24fHfvwrSPDRuzBcRoYDjiF+Lvh5P14Z5S67ZoQuKkSJxtQgC7xlEMkYn8P4lTy6YXZGSbN+k9OOXi396mSsX9ZOW7mKCNaz9Af8xmQKETcUKD9ErxbBryTCC4OIFFnXH/vs6XV59/e+fqxC4ff2/n6/+x4zUVpnCHOqDV503QZQhrNDbXNNRJWolXrfrbokbkT7ug5HhOf5APUBQ2a4O+flppuVD3y7rEOO08IOHnhxzPSnlmUgx5DmGiek4NELlKngXf2b2AWXNBLfzVW4h5QBuqMX7fn4V1RuC075s3Vkx7/8HhlUychwDLk7vyE3y8ZHU6aJ0HJWu5sho6GAF4eA+oYkPVtocZpgwMvweG33NL0x2aGn+yGyH52zrW2wL8ehJMfiZzTZYeM22HJK6CJCZKqvKI5V2chAOlGDYuFlcIDR4d7Ni/iv1L3H9VGkEf29VR7XoCj73yXvcmwwHCNLfVFHfYiQXUheoLNaXfxPOk6u9tvSIhOnJozc8Hku3wh2VfZppZy+OgnUL4XWKmIcY/OgLW7+3F5A6K8qcPu5NOiNRIWU3zDBacVLDWeGZ3f26SC24TKtX0ds09+CLv/AKK1HVgpzP4NZC7o9+X9dTrUFolPKQkD61uC5zoQQgSBVjZ3ugQhQiExauRhlqfGBeOxgVLv/vR+TJ+eoABtdVB/2j2NE3FNrMA7QslBu5IMlmmK6OFGICEM9ZR9NGYOheAB2mqh/pRv0YJ6THIUw8zhyBxbFTx2ztJptjlsvhqLMoksUqUNkpwopXanvbW9xdzRYnd+1zeSYZgIlTY60iiXyvtiQ1MMqqtWU5Aw0LxEAYYhCsayNsPlM+JF/zgZWFtDzsgzDEmJUoWrkeeC8diGctWIuGdaItuxbifUGnJ1RjGiOwwZesFLfILv8TXKOyKUkRHKyL6oa5CU1Fwoqy05X3W2uqmqurGqw9ZOrlwOy3Jx+rj0+Iz8kRPzR06UcJI+Ch4ZRprvB4xb86IrDYwk5CpEhb2R51D/CBIy9ui6/EpFfdmOw1uLLh6pba62dJrTYkdmJWUbtSaW5bxLHw6n40Tp0Y/3vb/nxK6CzMK1i36ulKnw7SDIcACdhpsFu0u41NzZbncCEJWMDZv8HCSE4AX+k/0fbz7wsTe48tb8eTPHzE6ITpJJZFLJd+1YqSB02JeX1ZW8/unLW7/5RK1Qr1nwUH9/yyXQiqaONpuLXGkGiM8fCXvKGjssVqe30WWiXtm9UgA6DeFMbat159l6i9XpaScIKyYmRYsV7ugjlNKSho617xyuaOrw9sCkntZEb66ehA2lkOuGpdP86ub/3nFkq4SV3FGweNXs+yJVWpbhCCFlje0b9l8sb+ygQCUss2Ji0m3ZMXqNwbjK9PjfHvpo78a02PRb8+f3/bdKG9qf3nTyWGWrpwcmAIEUg+r5pWP8mwgjSHjQanU+9v6xAyVNgqdaj0AhTqf4t7tyZ4yMRqfhJocAKwWJXCxBjnhyOK+xBlxU2bLslQPtdhfLEApuk/fiZ8X/f1H2/dPSBnZBDl54btvZU9VmuYR1XtnYO1NjeeKD4++smYx7wshgBc/JgFOIBAYxnKfEGaGUNrc1rd/w1MmyolRT+k/vfLggs9Dr0AKQIxXNj7x7rKShg/M2a6ew83T9g7PTn5ifmWhMeur7zzz991+9se3V2ePm9XH7ttPh2rC//LMz9Sop6ytQcabW8vzWs6/+cKJWIcF3hgx6ZJN5wucDFHe6EfzXzvNfnrvcvWxJcZ3lhe3n0qJUCTolOg03K5SCQgvL3wJ46xqHBTB/Na3WxzYWtdmdMo7tssgAPKUvf3kxP0k3sHnS1xebPvj2kk7VMyPuYFnT374qWTsD60UigxC8LhlWb+79qIbW+p/8572d9s6ZY+c8vORXhghfRVRS3Wp94bPi4vo2pZTzOSG8QN87VJmfrJuTFZOXPn7W2Nt2Hd3+r68/XDJtWR+uiJ6usbyxr1R5xWPoChaj9GBp89/3lv5ibga+N2RwshdgzecDs/BB4vOz9f8qqnbytHuavYxj9xQ3bD9dt3pKChc6NVKHWTHXPgol8GHvflNxtLL1isfgs6JQb7H985uKgV3U+99Wqvx2tgghVge/9UStgO3/kWAKvrrx0ro3HrM5bXdPX7Fu5XpDRJSvdouLF7afrN18vOY7j8EDy5DK5s4Pj1xq7XQAwNqFDzl55+Hig325IoHC3vMNVofA+AWZO3hhf2mTt/McggxC9szQDARD5rrTfRcaK5s6/QvzqGTc1hO1tqt7WeFKw2DePQfx42DcKpG6NN6KOtc9ZvvrkiallPUf4AWB1pptFpszQt7vxdWaVqtokSdCiEugje327k2EkTAnPh/yVornGDutQ76yWl5X+scPnyuvK11QsHjNggdZhu2eVu7ghRNVZpVYrJZMwhyraK1usWqVUo0yIkZnqmmqsjtssj5Ubqg1W1lWRPEMgQ67q8PBowqGF4Z0GLM8YMqlLiXU76/DwVusTi6A5i9b7IJA0WkYIlgJ5NwFGXeIO4aUBqPRzjVev91FAlpDGNi7j9bIAn1NKWUNKhlalWFE7hLIXBBQ8GQoy+abO1r/9ulLp8pP3D1txep5a3p4DJ5fhK5ARZGLAQnHMFe83ThDQl1zjaXTEn0tpwEIGNQy0UK0FCBSIQnFeHJkUKQUQsL4wGNUyE+ZlFJWr5KKLhkLFPQqCRNStRxu4u0J77YTJwd5BMg0Ih95hHvidX1X7yenGZxingGlEKmUaJXSAZxzcV68kxf8J2QKKTtjZDSWmh5GUHotwQ+lGD7e+/63xQfHj5z049t/qlZo/EvXSTkmL0nr4kXWTnmB5sRFGK8kDTmcduLh2hMBQmaOMnJMzwL2lFKOIeOTdZgxNOw0z0rFBe/9sBII8S1ahpAJKbo4rdx/r9nBC3OyY2QSBlcahoJ+xR+4bLD3T/DViyDxC0MVeNAmwL0fgTZx8Be1anLy63tLe5hXSqlBLZ01aoCZM3NzTLdmxewpbpByTLfbIlPSDD+7JR2rTQ8j+vWWd/8BvnoBOLEh1maGp2tA2ts63JHzhz47vFUukf98yS+VMqWoxjiWKRwRlWxQXfbr9iuTuD1ag7rLaeCp0OdbJLnxEfdOTtmwv1xxZafP60AUjjD82JOChIJHzYsfU/QubF8n3sKQ4WD+v0PeypvPKXKLeV5u7KGy5g37y5284NO2kxfyk7R3jo0PrU7x4RIIST1+g80Mdovfxwz2tqHyVdOj1a/+YIJSygqUei2d24By7LLxicsnJg3snAoJ+9aPJq2dOcLhEhgCXuP8gynJb99fwBI0oEgAAgreArY26FXvnfbOPcd3ldVe/MWyXydEJ/WisezYiOeXjjVqZD61U0qlHHNPQdLd4xN8h9U31zCE6YtQKaUaueS5paN/OXcU8ezpMgQkLHN7bux7aws9q7goeCQAvENc8N7PTdmKqKuNHKW/XZTzxPwMpZTzal6gdE52zD/XTEmJUlGKMQ3hC8uQhWPiotXy9Z+camy3E4+9e/CW9FUFyQNuZUYplUvY9Xfm3Dk27lSNGQDyk3S58ZFoPZEgcaGq+IuiHdPH3JI3Ip8JHFzplfTcnJhE/eTnt549V9dGgSql3AOzRnhdZK9EL12uaDBfTohO9mZe9C5arw3lGObJ27MWj0s4canFydNEvXLGqOgwawaIID7Ne/9Z1s5Mn5tj2l/SxBBI0qumpkeF4roaOg39HuABoCBNv+Xh6fUWm0sQkvSqQb54X/fL/GRdfrLO90NoPZFgYHNYvzrxhaXDPH/iQr3G0BdjlxUbseH+gjqzW/CxkQqWuaoH9xdFO+VSxYSMgj4O+d3avWoyTRoUPDJMXAdKaWqUOjVK3X1ACTnZo9Pgh7UVHO0BX7zaCKyUUsoyxBexNfgX7/91NKBIkOiwte85sSt/5MTclLFu9drbiM0cSJig0BFpV8SDKVLuL3hK6f7TX8kksqm5M1HwSGgguMBSI57ATCkodEHKywsP2aPT4MeJjVC8DWiAZPFFfwZ9Gna4RkIUSmlZbWldc838iQtN+li3eku+hEOvicejcXIofAhSZ/Qi+C+LPi+vK8lMyk2JScXHi4TIzLAFNv4QZGJNAZ1WmPoIZC3Eh4ROQ59pKIaLu8QDdAHA3o5PCAlpp+HI+UNatT49flRXbwnzJbj4uXiVfqkKxlyjMvSWg5sohVWzf4hbDEjI4LRB8W5QiGUe2a2Qezc+IXQa+gPDAMMFTARCm4iEtNMA9FJjpVqh0WuiulqnEK/gxZZqGa73BKvthzaX1FwwREYVZBXikhsSMhDi1rVo3VXWdqM6WoXMCImPAEGG1UpDfXOtTqNPMiYP8lS1TdWbvv6gpb35yRXP4INFEFxpCDXPUaEFbTJI/VacBB4i4oFh8WUjYYXcI3iJWJFdueUaS2KDTgznede7X759tvL092fdl5eejxsTyPVApobIRKBie8eEu/5dBdBpCOHZE3AymPYL96f3w9CuIeGyYgDTHnF/bgQu3rX5wMc7Dm/LSR69cvZ9uDGBXCfN5y51f9DI31CYMFlmGMLDECRsNC/yPRKhinTxLofTPrAzWO2dWw5ueuuz12J0pofvflzXa6UHBLmumkcjj04DgiBDaXiBZCZmt7Q31zRVDeDrDqf9H7veen3ryyq56qeLfp6VlDMUex0IgqDTgCDIzThbIwVZhTVNVd+eO9jf7zZbmp57d/2mfR8YtaanVj4zOWsaplkiyHADUy790KZA4qSAxZ38u2giSEg5DUnGlLwR43cf/3za6FnZybmgNkHiZNEyDcApQNm1+/DFsZ1vbn+l0Xw5MzH7l8vWJXqSL9BjQEISVgrJBSAPUNxJHYNPqDcbgkuLV9GXOBqMtUFCnINn9j352qPZKbmPL3861ZQeSM7UU8ihtrnmtU9fOnjma6fLOTV35qNLn9SqteguIGjk0WlAECTsDaZ7sG+3tr+5/ZUtBzYp5arfrHo2IzFLLpUTQry2gABxupxO3nm5tW7H4U+3Hdri4p06tf5H89fOnXAHLjAgCDoNCIIML7+B5/mthz7ZtG/jxZrzuSljpo2eJeWkXmPAMmxJzfnS2otFJUd0Gn1idHJhzoyl07+vVmAePIKg04BOA4IMS78BAE6WFn1zbv/ZytMV9eU87/JGNlBK1Qq1ISI6PiphZHzGlJzpJl1sjy8iCIJOA4Igw8hv8BVlqm+pq2qo5IWu4F8KVClT6jWGGF0sx3LoLiAIgk4DgiDXdgXQV0AQBJ0GBEEQBEH6zf8FAAD//1PxR+pqJ5PMAAAAAElFTkSuQmCC\n",
      "text/plain": [
       "<IPython.core.display.Image object>"
      ]
     },
     "execution_count": 17,
     "metadata": {},
     "output_type": "execute_result"
    }
   ],
   "source": [
    "Image(\"TomekLinks.png\")"
   ]
  },
  {
   "cell_type": "code",
   "execution_count": 35,
   "metadata": {},
   "outputs": [
    {
     "name": "stdout",
     "output_type": "stream",
     "text": [
      "Original 0    549\n",
      "1    342\n",
      "Name: Survived, dtype: int64\n",
      "Sample 0    549\n",
      "1    342\n",
      "Name: Survived, dtype: int64\n"
     ]
    }
   ],
   "source": [
    "X = data[['Pclass','Parch']]\n",
    "tomekLinks = TomekLinks()\n",
    "X_sample, y_sample = tomekLinks.fit_sample(X, y)\n",
    "print('Original', y.value_counts())\n",
    "print('Sample', y_sample.value_counts())"
   ]
  },
  {
   "cell_type": "markdown",
   "metadata": {},
   "source": [
    "# 4. Synthetic Minority Oversampling Technique (SMOTE)\n",
    "This technique generates synthetic data for the minority class.\n",
    "\n",
    "SMOTE (Synthetic Minority Oversampling Technique) works by randomly picking a point from the minority class and computing the k-nearest neighbors for this point. The synthetic points are added between the chosen point and its neighbors."
   ]
  },
  {
   "cell_type": "code",
   "execution_count": 36,
   "metadata": {},
   "outputs": [
    {
     "data": {
      "image/png": "iVBORw0KGgoAAAANSUhEUgAAAt4AAADhCAIAAABwRSVZAAA1zElEQVR42uzdC1RTZ74//I3CNLE2gWJH0FAC1ssitmwOOgMWJR6UtmtGTecg9GJNwENr25kaXk771unpkPT0Yk/HEnvmtLZWCH3bnoKsGrTTnnopoaLQEccwFd6Rf8VEGMELJUmVMBXLf8l20pjLzoVkZ+/k+1ldq5jsZCc7z2/nl2c/z++JHR8fJwAAAADYYQoOAQAAACA1AQAAAEBqAgAQGhcuXLh69SqOAwBSEwCAMHvuued++tOfzp8//+abb37ooYcuXbrk7zP8+c9/pv54/PHH//73v/v7qEcfffTbb7/FBwFITQAAgNi5c+ehQ4f+9Kc/ffvtt+fPn+fxeGVlZX49w6FDhyorK6m/P/30Ux+nJjg+ymKx4IMApCYAAHDNJ598UlxcLBaLCYIQCAQvvPDCuXPnvD7KbDbb/546dar9b+qx4+Pjrl0vY2Nj3333ndtH1dfX33rrrfZ/IlMBpCYAANFryZIl7733nv3aikgkamlpIQiiqKho586d1I1Xr17Nzs4eHx8vLS3du3dvZmbm0qVLZ8+e/eWXX164cOG55547e/Zsbm4uQRAzZ858/fXXU1NTJRLJr371K/teysvLFy5c+Mtf/nLZsmXnzp1zetSCBQuGhoYIgjh8+HBGRoZMJsvKynrppZfw6QBSEwCAqPP0009nZ2cvWbIkNTW1vLy8qamJuv3BBx9saGig/v7oo4/uuuuumJgYgiC2bdv25z//+euvv1YqldXV1bfddturr746a9astrY2giDOnDkTFxd35swZk8nU1dWl0+kIgnj++edjYmL++te/trS0yOXyRx55xOlRFy5coHb0r//6r6+++mpzc3NbW9v27ds7OzvxAQFSEwCAqPPWW2/19/dv2bKFIAiZTLZ+/XqCIP7lX/7lq6++On/+PEEQu3btevDBB6mNV69eTV2L+fnPf07da7PZ7E81c+bM0tJS6u/MzEzq+s5HH31UWVl5foJMJmtraxsdHXV8FOX48eM2m23VqlUEQfB4vC+++CIzMxOfDnBRLA4BAEDADAYDSZIzZsx4cMILL7wwa9as3/zmN4sXL37ggQfq6+sffPDB1tZWqv+DIIibb76Z+oPqRHFy0003TZ8+3WmDc+fOPfnkk/ZtFi9ebO8mcXT+/PlZs2bZ/zl37lx8OoDUhE2MrV42EOfhs4cogogImZ/97GfNzc1333039c/k5OSMjAyr1UoQxLp16zZv3jx16tRHHnnEx2dzHEIbHx9P/ZGQkPD666/fdddd1D8HBweTkpJ6e3udHnvrrbcODg7a//naa68tWLCA6kQBv5nPXPuPRvzt1/4DpCZ+qP2Flw3UGMEO0QQRETLPPPNMRUXFtm3bqBGpWq32u+++KygoIAgiLy/v0qVLH3/88WuvvUbzDFOnTv3+++9pNli7du0bb7zx7rvvUpNxnn/++Z6eHtdHLV68OC4u7uDBgwUFBVevXn377bfr6+vxAQXI8CHR/ArdBss3E9JncZyQmgAAsM6LL774/fffr1271mw2j42NkST54Ycf2u9dvXr17t27s7KyaJ4hIyPj7Nmzs2fP/tvf/paenm6//dKlS1R52d///vfr1q3LyMiYPXv2mTNntFqt06MEAgH1kHfeeae8vFwsFl+4cOHRRx/Nzs7GBwRcFBOZKw9XCfEbEQARwaSBgYGf/OQniYmJjjf+7ne/mz59+jPPPOP14VevXnUsVeLKZrNdvnx5xowZXh914cKF2267DZ/IpOi3oNckjNBrAgAQBMnJyY7/bG5uvnr1akNDw6FDh3x5OH1eQhAEf4Ivj0JeAkhNAADAmcVi0Wg0zz77LBIFAKQmAADhJ5uA4wAQAJRcAwAAAKQmAAAAAEhNAAAAAKkJAABMyqZNm/77v/8bxwGiRIQOg+Vi1W3URQZGIsJsNsu2faUpmUcuSENEcAVVew2YE3+7l+8Rdra9SFmSIkJTk9I/cu81oy4yMBIR8QRheS9r+TtGvf5/WL0yLQcj4vLly1OmTHGqPmK1WuPi4lxLkgwPDyckJLj+7ZhE2pfRcaqNOTY2ZrPZbrnlFq97hwCRD137j3MiZUkKTB4GiDp6vV46Qa/XY938YMnPz6dyiLi4uE8++YTP53/88cfPPfdccnKy1Wrl8/kHDx78yU9+8utf//quu+7asmXLLbfcMm3atDfffLOoqIjP5wuFwsOHDxME8dRTT82bN+/dd9+dMWOGzWbTarVOawiXl5cfOnRo5syZ4+Pju3btmjlzptu94xMB7sJYE4CoIxQK9Xq9WCyWSqWdnZ04IJO3devWZcuWtbS0fPnll3Pnzv3DH/5AEMRjjz32wQcffPHFFx0dHQkJCe+//z5BEDExMQ0NDd98801nZ6dQKHz55ZdPnTp14sQJgUDw0UcfUc+2c+fOjo6OAwcObNiw4YEHHnDc0fPPPx8TE/PXv/61paVFLpdTaxq73TsAd6HXBCB6sxP0nQTLrbfe+v7770skknvuuWf79u3UjWfPno2LiyMI4tSpU3Pnzr18+TJ1+z//8z9PmXLtZ+HcuXPT0q6P+BGLxRbL9c72DRs2xMZeOzmXlZW9+OKLly5dsu/oo48++uSTT86fP09VdVMqlaOjo273DsBd6DUBiPbsxGg0su21mUwm7f8e49DBLC0tVSgU27ZtS0xMvPfee48du/bia2pqsrKy5s+f//TTT1+5coUaLzI+Pi4UXl9tcXx8/KabbrI/SUxMDPUHdY2GMm3atIsXL9r/ee7cuSeffPKhCSUlJYsXL75w4YLbvQMgNQEATmYnu3fvXrNmDUtej8Viqauru//++8VicemrjRw6khaL5d57721ra7tw4cLdd9/9b//2b93d3Wq1urGx8eTJkx9//LG9y8QXg4OD9r8vX77smKkkJCS8/vrrB/7hww8/TElJcd072jYgNQEAmKyKigqxWKxQKPR6vUKhOP7Woxx68a+++uo777xDEERiYmJ6ejqfz7948eL06dPnzJlDEMSZM2c+/fTTK1euuD7QaeoNpaamhvpj+/btIpHIcUzr2rVr33jjDerv+vr6ZcuWud07mhNwGsaaAMB1JpNJp9Nt2rQpLHs3m81SqVShUFzvxdFvIQY4c+heeOGFwsLCpUuX8ni8c+fOffDBB3feeWdmZubSpUtnzJhx6dKlF1980WAwuD7QbcGS1atXL1iwYObMmVOnTqXGxtpsNuqu3//+9+vWrcvIyJg9e/aZM2e0Wq3bvaMxA6fFuM3ZIQz0W1DXBMKrpaWFSg5qa2sZyIHMZnNVVVUkRYTVar1y5UpiYqJjvjV16lSnAiT0nnrqqZSUlKeffvrixYszZsxwu43NZrt8+bLTva57h6hTJfSyAeqaAAC35Ofna7VahUJhNpu1Wq19tCZBEL0D31yyXaJ57JxZd9zMm07//BaLRafTabVavV5PTTCJsAMoEAicbrHXTAuAp7yEIAj+BK97h3AatRCDX3vZhouFy5GaRBeO1kWGyCKXy+Pj4xUKBTWp2J6dbN/7xl96j9M88D8f/a+70kmapEShUOh0OurbWqlUKhQKLzOWb4wITdMx8+i4qmRRxEfELbfcgsEikWDw6zDUZo2UXAepCWtwtC4yRJw1a9Y4ljxx7DsJmNlsJghCoVDIZDJfJwTdGBEx1m0xZjNRWhXxx/+ll15CI4QAcXGRFqQmAOCLzMxMvV6vVCrNZnNgqUlTU5NYLLb3i6Smpu7evXsyLylcg3ODqK+v7+DBgwaD4d///d9pLtYAAFITAHCfnTQ3N/v7qM7OTo1GQw1xValUKDJLOXLkSFtbW19fn81mk8vlyEsAkJoAQGhdGR17Rb2l/cuvqMKysn+I8sNy8eLFgwcPtrW1TZs2raCggM/nkyS5ZMkSNBiAsKUm+7oGq/f3dA9Y7bcUZYs2LE3PSMYwcohGNa2nd7b29g9fL1Ah4MUWSpKqVi8U8Dj/C+H8/xn64tN2kiQ1Go1MJktNTY3yz9pgMBw5cqSzszM3N/fxxx+fP3++VqtFXuKv7gHrzkO9jcf67beIEvgb8tLL8tJwcJCaBNikyt/rcLqx8Vh/e+/QZ8r8CDgXA/ibl6j3djneYh0dazzWbx0d27F+Edff3ew7Z37wXw00M3Qmr6WlxWw2s6emvlsjIyNtbW0HDx4kCCI3N7e4uHjGjBkjIyNvvvkm8hJ/WUfHyuuO2lN5Sv+wjYojZCdITQJpUiXbj7i961rD2nNiazGJQw/Rw34+dbWva1BzoEe5Yh6OEj2VSkXNHmLnyzt58mTbhHnz5v3yl7+0ZyEjIyNvvfVWcXFxSkoKPkS/qPeccMpLfrxrb1ehJEmUgCnWSE38+4HYax0d83Rv47H+yOjEBvDRztZemnur9yM14aqRkRGDwXDw4MGhoaHc3NyXXnrJcYgr8pLJ/L51vI7jNqaqVklwoJCa+KHt1BD9Bt1nLTnpqKYM0aL7rJV+g/beIUQEt9iHuCYmJhYUFJAkOW3aNKesBXnJJELGMsmYAqQmABDh0pPvoN9gOn96lBwKaiZwT0+PfYir6zbIS4DgCVGHnl2piddLgAJ+HA49RA+vDV6UMI3lb2Hjqqei/EO8ePEiNZqEIIiCgoLHH3/cqZsEeQmTIcOBL5GkOyOmNivzpoTiSdcuSqFPXDB/GKLKPZIkmntz0hO5OKAvKyurqakpGj6+kydParXa5557rq+vr7i4+OWXXy4oKEBeElIZyQL6oKCPKUBq4v5UW5Qt8nQvxi5BtCnKFnlKxwW82KrV3IgIi8WSlZV1//33U/80m81KpZKxvctkMqlUyuT7HRkZOXjw4G9/+9u33nqLz+e/9NJLTzzxBEmS9A9BXhIsNN8UGckCmq8YiAAx4+PjIXpq10IOAl7sDvliDPeDKGQdHVPvOeE06SAjWbBDvpgTXSadnZ0ymcxsNuv1eqr8/LZt25RKpV6vz8/Pj7APy77YTUpKSm5uro/1SC5evFhXV4e8JIjae4fK6446zfcsyhZhjidSk8k2rJ2tp622K9fOwrMEG/LSMRMdolnjsf7PuwapiMidk1iWl86JM2xnZ6dUKhWLxTqdzl7p1WKxxMfHKxSK2traiPmA7IvdkCRZUFDge5LR19fX0NCA9XGCrn/YtrO1l5qPI+DH3SNJQn8JUhMAiHZ1dXVKpVIsFuv1eqdViEtLS7VardFo5HpleqfFbnJzcz0NJaHJS2gGxgIAUhMACA5714hGo3HKS6jeFJIkVSpVVVUVR9+g42I3ubm5bmcCIy8BYBgu1wGAR0KhkGY0SWZmpkKhYOaVBHcNHbeL3QTwPMhLAEIBvSYAwAHLly8nCKK5uXmSz+O42I3vQ1yRlwAwCb0mABD56Be7QV4CgNQEANirtLRUp9MNDw9HxtvxutgN8hIApCYAwFIWi0Umk+n1eq1WGwFvx5fFbpCXACA1AQD25iVSqdRoNAZQRc1kMkmlUr1ez4ZZxL4vdhNYumMwGJCXACA1AYDQci326i+j0ahSqcJbfs0+xDUzM7O4uJi+qHxgeUlPT88TTzyBBgMQUm5m6LT3Du3q6OsftlH/ZLgAX/eAdeeh3nDtHcCVa0SszRYVMrW6GDN7z8rKIgjCsdirv4Jefu39A7XvH6j5MfU5+rexv1+9I+92+y3rVpStW1HqOBN4ZGQkNze3oKAgFCVZqbyEscnSnGYdHWvs6Pu8a9B+S+6cxKLsFGaqgbvuPYpqkVcJvWygtnAyNWnvHSp5u811u4qV85Qr5jFwFg7j3gHY1iYZ23tnZ6dYLHYtquY7k8kkFouVSmV1dXUoUhNX9tSEushCkuRkZgIjLwmikrfb2nuHnG4U8GIPb17BwMoM4d07UpOguGHl4f5hW3ndUbfbVe/v2eeQhIYo1Q3j3gFc0UeE6+mPu3vPzMycTF5CEERqaqpUKtVqtRYL0+e+JUuWPPHEE8hLWEK9t8tt46Q5wzOz95LtR/DpcMUUpw/VaY1HR5UNhpC+lMaOvjDuHcDtaY6mTe5sPR3Bew+ASqUym80ajSaS2gDyEr90D1hrPLfM9t6h7gFruPZOfy+wyg29W+2nLtL3anQPWDOSBSF6KZ/T9ouEeu++MnxIHP+AboOkO4n7tqBhRQb6iAh1T15I9x604iUOEZFPEPLMuPG2N4naP/24QdbDBPkQ8pKoCRkvnXn7ugZDdxr3uve23qGyvLTwH6baX3iLzz8iNbnh659+a2ox93AJ796vM58hjK04AUUJrxHB0b1TQ1aDU7zkxojQruETxOgNMZK21MdnslgsBoNBP8FgMJjN5lwFKZg53e3GV0bHHllZNqSxbtq0CXkJm0LmCpv3zoovEYLAl4h/qYmAF0t/NhTw48L4Wv3YO3JSCEqT8xYRnNm7Q0SYR8e12s9qi2fKf2ggahvYEBEWi4UkSaPRSP1TKpUqFIrzY2eHbj7r6SFxvNifrfwnpVJpMBhCMWN57969Q0NDyEv8b7RxbN67H18iXjvIudwdyLHUpFCS1His39OmogR+SK+n3CNJohnZ59/ekZNCMNBHRKjnDwdz7w4REU8Q478TEIQtLGFiMpmofhGVSmWfZiwUChUKRXx8PEmS9mpvXmfo/OaZX199eIpCoaD6WiY5jNeRVqudN2/eqlWrEAIBNFr13i76DcK493t837vXDnKfuwMhADcMg61YOZ9mblXVKklIX0rRopQw7h3AFX1EbAjxRevw7j24nSJNTU0VFRVZWVlisVihUGi1WrPZfEOAV1Vt2rTJ3yq0crncYDAYjUaSJDs7O4OYl4Ruvk9kEyXwaQZz5KQnhvT3Lf3eM5IFKJHFydRElMCv37jEtekIeLE71i8K9W9EAS82jHsHcHumo2mTOemJEbz3IFIoFDKZjJq5o1Qq9Xr9+Ph4YDVnXWVmZhoMhvj4eJVKhbyEDapWSSpWznPbpbFDvjiMe6/fiI+VM2Jd88r6jUvUe07Ye5Jz0hOrVkuYmRpj3/u+rkHqKjuTewegaZP2iCiUJFWsnMdwRIRl78Gi1WqpkmiTueby7RnLldGxmfPcJGSpqanHjx9HXsIeyhXXmqh6bxdVxViUwF+7KIWxsplOexfwYjcsTUfRTm5xU6g+IvL2kFXE028hml+h20CchzG2gIj40fLNhPTZyb+DrKwskiRDt0YP8hJgrmFHSs1W5npNAABYSKvVisViHzf2t+4+8hIAVpmCQwAA7OdXKX2FQiGVSn0cGIu8BACpCQBELMPgVcPg1bC/DKqanFQqbWlpQV4CwDm4oOMn8iFCnEe3AU+IgwRRGxGynFXkgjTd5jd+3CD+duZfVGZmpl6vl8lk1IqDcrncdZuRkZG33nqroKCAJEl8jMAojEdEahJk8beH5VQLEER645hUHBv0iKirqzOdM6tf3eQlffeTxWIxGo3+TjYWCoXNzc2lpaUKhUKv1zuNn6XykuLi4pSUFLQHYFpQAyQiRegMHa9lLtEyIKo4RITZbE7IWiW/55+027cFNyKWL19uMBiCsGTgjbZt26ZUKgM+U9XV1el0ut27dyMvAT+Yz1z7Dz9TkZoAADPq6uoUCoVSqayurg7Wc3Z2dpIkqVKpqqqqgvtqly9fThBEc3NzUJ4NeQkA++GCDkDUkcvl8fHxwX1OsVis1+tDMW6DWnAHeQkAUhMAiGRr1qwJ7hMKhUJ/V8DxBTUBOCgZD5WXTJky5dtvv0VqAoDUBFhJv8XLBuRDuJgK4WUwGIKSmtj7S9avX//CCy9otVo3yZnXiAhGWVuAyGFs9TKyU5wX2Dg2pCZRjL4MM9WqkJpEAZPJpNPpNm3axMb8Wa8Xi8WpqalByUtSUlJ0Oh213KCbScVeIwKpCYBTauK1nH9AqQlKrgFE/enFaFQqlaWlpYE93GKxNDU1hei1kSSpUCgm8wx9fX2O40uEQuHu3bsVE9RqNT59ABZCrwlAtMvPz9dqtQqFwmw2a7Vaf9cHViqVOp0u6HOGKZPsy+nr62toaHj88cenTZvmeHttba1YLFapVEajMXRLBgJAYNBrAgCEXC7X6XR6vV4qlVosfqx6ajKZtFqtTCZj4ZvylJdQqqqqtFqt2WzGpw+A1AQA2GjNmjV6vd5oNPqVnVDTeoM1uZexvMSekDmWYgMApCYAwC7U0jPx8fE+9iVYLBadTieTySY5TDXoRkZGvOYlTkwmk9H8A9oAAFITAGBddtLc3OxjqqHRaMxms1KpDMUrsVgsAY/MnTZtWmVlpe95iVqtFovFys9H0QAA2ADDYAHAV70D31yyXXJMTRbcNT8hRfiXXgN1y5xZd9zMmx6UfWknKJVKfxf280tnZ6dCoTAYDCqVquqH1/ERQ5CNWojBr71sgzXdkJoAgO9MJhNBEPZOlO173/hL73H7vXPvS+ELb3rmnd/Yb/nPR//rrvTg1KqnLi2FNC+xWCzkBIPBcG1HVUhNINgGvyZqf+FlG7UFx8kJLugAgEcajYYkSapavKtbbxfyhbwQ7ZqaLhTSdycUCvV6/fHjx0OaAAGAv9BrEsWWb/ayAUrBRj2VSkWlCDqdLhRL5HjS2dlpNptDnZpQNV38iAgAcCTO8xI1gV6rQmoSxVB1G3zrV5DJZFKpVKvVMrZfvV5/rYX6kJq8f6D2/QM1NBusW1G2bsX14bRNTU0ajUar1bof54uIgChR5a2soo/XmAJdIscrXNABAC/ZSXNzM1XZ/cvPWxlLTYI70MRisdx///0ymSx+Aj5WADZDrwkAeEdVc3//f/6/AmUuA7sLbg23pqYmaiEenU7nZsFhAEBqAgAczU5uy73FcYZO6ASxv+R3/4/69Ncmaqlhf5cHAgCkJgAAwXRldOymGB46SwCiOjVp7x2y/50xSyjgIfWB6GUdHes+++Nospz0RBwThsXxYp/b+v+uWYG8hDO6B6xW2xXqbwE/LiNZgGOC1CRwjcf61XtOWEfH7LcIeLFFi1KqVklwlCEKqfd2NXb0OUVE1eqFRdkiHBx6JpOJbYvyADNJSWW9oXvA6nhjRrJgawmJBAWpSYBNyikvoX4y1rSezk1PLJQk4UBDVNnXNVjTetrpRuvomHrPiYxZAu6eZ9OT77D/bTabm9794y0/nf6r9T/2SUznT7ZKfUtLi1QqNRqNQc9OsrKySJKkxvMCC7nmJfZ85TPlMq6+K54QdejDlppU1huc8hLH3445c2bgyg5Ej2spyN4uT3dx+jy7cdVT1B8Wi0UqlX5/4Yc7Jf/0n4++EcRd6HQ6giBCMb9XqVQqFAqSJDdt2oRWyjY1radd8xJ7dlLTerosL42TbyzpTqL0j/h8/TUlKD8QPTUpgiD6h23tpy7iQEP0aD91sX/Y5une7gHrvq5BTr9BKi8xGo16vX737t3BfXK9Xk+SpC9TaSwWi1qtrlj3tI/PLJfLlRPq6urQStlmV0dfwPcCUhP3p9pJbgAQSSI7IhzzEqcpviaTKS0tTa1WWyyWgJ/cYDD4UgR227ZtYrFYpVI5LeLz7RnLuZ4hT4+qrq6mase1tLSgoXIoavAlEm1wnQUA/CCTydzmJdRVGCpd0Gg0VP+Ev3VEfKlPX1dXp1KpjEajVCpVqVROK/uo1WqNRnP8425PD6+trTUajTKZzO1bAIgKrF/rOAi9Jl7H9IkSpqElQPTw2uA5Pd1AoVB4+lKnStpTV2RUKpVYLPa3B8VrarJt2zaqrqtWq21ubnZdcVCpVFJPQkOn01EdP2irbIoafsD3QuSJGR8fn/yz3L3loKeL6wJe7OHNKzAM9rrBr4nPaJcQS7qTuG8LjhOnWUfH7n7lgKeB4aIE/uFnCyL+ILS0tFCrFqtUqqqqKo/bGT4kjn/wY2JRd9RsNms3rfxxg6yHCfIhp2dmcg1kYIbmQE/1/h5P91asnKdcMQ9H6braX3jZ4L4t175KuCw4GcMO+eKS7UfcnourVi9EXvKjUQthbMVhiGxU/ZLKBoPbu3bIF0fDQcjPz29ubu7s7BSLxXTbmc84RoTmWsrBd7zFGJMSk3C340Ri5CURqSwv/fMT7mdUZCQLyvLScYh+5PVLZNTC9bcYnKQhI1lwePOKku1HHBuWgBdbv3EJSuWwnd5bJw1WivdfUbYoY5bAKV/PSBbUb1zCuUy9s7NTqVRqtdoACo04Xffp7OzUaDQqlcrHpzKPjqeVvi2TnQv6PCC6VMnwISIiLAn9Z8pllQ2GxmP9TqG0tZjE8WE1w4fXAoeGOM/f4i6xwW1Yjcf6+4dHqMvthZIk9JdwQPMrOBGHApWv7+satEcEF+vAdnZ2SqVSsVgclEIjRqNRO0GhUGg0Gq+DZON5Mc3V5VLlOyF9jzeUYjOfQUSE0dZicsPSdPvs+kJJEn7ccsDxD7x05CzfHLbUxJ7h4mMCsOfrnI4Ie16i1+uDsmbvmjVrjEajSqXSarU6nU6pVG7KtNGnPFLS75780tJSs9nse0cLSrGxLadHOgJTcAgAgIG8hJKamlpbW2swGK7P4nng1VC8eIPB4PvGKMUGwDa44AIAzkwmUyjyErvMzMzm5uaWlpbj//MiQfwpuE8uFov9nRhcXV1tNpsVCkVq7X9I8fEDIDUJD68jnLEgE0RxRJzW6/NTp2pr/0M4/DUxHKqIyM/Pzx9vI5qDn5oEsHzx9VJsG5/Xy28mk6aiRYAX5jNexn7G337tP0Bq4gev88LVFjQOiNqIkBKEdA1B7H6YixFBpSYBrF2s0+nkJTKj+SukJuCd4UMvI6aXb8aI6YBhrAkARBR7auLvA4VCoW77f8gWxOEYAiA1AYBopzV8H6ynSk1NjY+PRx16AO7CMFhmJd1JlP6RbgOeEAcJogj5ECHO0360u3TP62TpayTpUlwroKv1er3eSxVaAO6i/xKhvmiQmoAfeEIMsAUuMhqNIfmynxgqqH77EbFYTMp+HaxnxZLCEMmi4EsEqUnUW74ZxwC8IkmSWlI46M9cV1dHVYllxfuMvx0RAeCfrIeJtKXBzaWQmkQ9jCEHX36nicVSqVSn00mlQS78odVqxWKxXC5nS2qCiADw74fLQ0F/SgyDBQDvqC6T5cuXB717o7m5+fTp0zjCAIDUBAD8EB8fr9fr5XJ5aWkpWy6+eGYymWJiYjo7O/HBASA1AYBIptVqqRVnOPFq/VpJBwDYI1rHmmCaDEBAEcH+LhOqtElgVdcAfBV/u5eoQZX6SYgZHx/HUQAA5tXV1cXHx69ZsyYUT56WliaVSmtra3GcATgHF3QAIAwsFotSqQxdH0wA6w8DAEv4cUGne8DafmrIOnqFIAgBLy5nTmJGsoDJ19reO9TeO0T9LUqYVihJEvAw+RnCpnvAuq9rkPpbwIsrlCSJEvhMvoB9XYPdA1bq74xkQc6cGQxHhNlsTkhIqK2tVSgU/j5Wp9OZzeYAHuh7aqLX69FKWcU6OtZ+6qJjoy2UJDH5AvqHbfu6BqlvMYIgCiVJDH+LgY98vaCj3ttV0+o8wa8sL61qlYSZBl1ed9Sel/wjO+HvkC9Gw4KwcI0IAS+2avXComxRVEWEQqGoq6sLIDvJysoym82hmza8bds2pVKJC9asSuXL6472D9scb8xJT9whX8xMSt14rF+954R1dCws32Lglyk+fqKueQlBEDWtpxuP9TPxNbDnhNNZmMp/K+sNTu0MgJlznGtEWEfH1HtO2H8RRklEUHN2/J1RbDKZDAaDTCYLac6EGTqs6i+prDc45SVUX7h6zwlmEiPXvITJbzEIcmpCnXBpTpGhPhW29w55ajpUGo5PEZjU3jtU2WDwFCwl24+EOiI0B3poIqKmtZfhAxJAdqLRaAiCCOkkZKFQiJV02KOmtddT1t54rF9zoCfUiRFNYFY2GFwTfQgv791oE1fmxmg+8n1dgyHtxN7V0Uf/PdE/bGP4Gj9EM/oGGfaI2NXRp1wxj/nshCCI0tLS+Ph4x76Q3oFvLtkuud1+wV3zLVeHzw3fNDMhCY0qyqMm1I2W/luMegE56YlsOVjGVi8bYHm/iV7ikUluMEmufYCuLwCpCTDGlwYZxhfg9eWFLjshSdJpdeLte9/4S+9x143n3pfCF970zDu/WbeibN2KUjSqKI+aUDdaH77FbCw6WLW/8LKB2oLUBADAJ75foLn1diEOFwB44n2siddurlD3g+XOCfMLAGBVg6R/foSDXWlp6f3334/jwAbhbbRen99rUAMbUxOayyWiBH6oW1VRdgrNvWV5afgUgUlF2Sk0cx0zkgWhjogNtG1+7aIUNhwlo9FIjXUNL0zSYQn6ZrkhxKfxnHS6KlwCXiz9twywMTUhCIJm2jcDM8JFCXxP+UdGsqBi5Xx8isAkUQK/avVCT+e4rSVkqF9AoSTJ0zDbjGQBM4VVfElNKioq+vu9TMs8tK/VZDKF6DWgICybEnqRp+SgKFvEQOG1rSWkp18UVasXYrQi2/hacq1/2FZed9Rx9ldGsmCHfDFjn2h771B53VHHUdZF2aKtxSQ+QggL1/pRGcmC+o1LGKvH2nis32kOc9UqCas6EZVK5VdDLcLZ0z1tYD13qU177S2QJCmbENzpvi0tLVKpVK/X5+fno8WyQU3rafXerhsyhmKSsWTatVChgBdbv3EJ6+p2VnkbiRUFw2D9W96ve8BqtU0UqufHheXjdCxUjzwXws7eIMMSEdbRse6z109SGbOELFy34Zl3nnI7Q8cuJ2WZ5ZsRnU5HdW+IxWKNRhOsBf9MJpNYLKbKrqCtskTYG639W4y9A7OQmvg7Qyfs2SWG+AGrhLdBCnixXI+IO+bfse7J0urqapPJpJsQxCdPTU2lLi2hobJH2Bst1jaJwNQEWMfY6qU+jzgvGurzANelpqZumuB0e0VFhVgslkqlvl7ruTEi1vw8vXl3XVX+TYgIAI/0W7xsIH0WqQn4mZo0v0K3wfLNOBEDh8+Zej01y0YsFlPjUbwMHLkxIjQ//+Ha/xxjBBEB4IT+SwSpCQBEkvTkO+g38Fql/vjx452dnXq9XqvVaibEx8cPDw/7+ALE8VPwKQDHIHVGagIAobNx1VPUHxUVFUqlkhr84a/MCZs2bTKZTHq93mw248BCJCv9I44BflIAQGi1tLRoNJrJD3FNTU2Vy+VO41GamprS0tIqKiqamppwqAGQmgAAeEetS6xQKELx5GKxOD4+XqPRyGSymJgY2bM7cMABuA4XdAAghCwWi1arVSgUQmFIlvTLzMw8fvy4xWLR6XR6vX74//8SxxwAqQmX1LSe3tnaa6/gKeDFFkqSqlYvZGGtKgAGaA707Oroc4yIokUpFSvnBzEiqJV0QtRlYicUCuUTCP0W79MNAALVPWCt3t+zr2vQfsvEeinzGKi1H1WmRFVeot7b5VhZ3Do65lrtGyB6IqJ6f49TRNS0ng5uRGi1WpIkUSoeIgBV6t4xL7m+ZsV7HY6ruMDkxUZPk6ref9LtXfu6BmtaTwe4+AgqngFnf/w5rWbiGBHtvUMBluw0fEiYz9j/pTf0Go3G2k0rf6zphIgAzqpsMDim8o7K645+pswPsLuRfRXPkJow9gOx13FpQCfV+08Gnpqg4hlwUPX+Hvp76x/LDeR5j3/gmKxLCWL8dwKC+Ipo/goRAVzP5p36Sxz1D9saO/oC/B5hX8UzpCY3dGzYl30K+up9baeG6Hcd+M/E8BLnXTvX028A3BTShdBoTrKOyxYiIoBzCUSI1qClDxmCID7vGmTV0t9+oA+ZaE5NNAd6nH7GFUqSthaTGKDq/USMU20kQkQgIsDfpKSy3uA45kPAi91aTGKAqnfs65VhxTBYajiea4oaxOF4An4c/QaihGlon8ASDEQEfa8kEiDgFmqAqtNY1Gs3Bm+AqtfviOD29Ee58Kcm+7oGaYbjebrLX/fQJs456YloVcAS9BHReKw/KHtZuyiF5l780ARuKdl+hGaAalB2UShJok/Z6WMKOJaa0A/Hq2k9TTN81XdF2SJP1x0FvNiq1RI0BWAJ+ojYeag3KHspy0uniYiKlfPxQQCHsnmarpH+YZvXYSK+mPimWEjzFcPJ0YpITTzx2ttmHwk4SfUblxRli5xuzEgWfKbMD+5oKYDQRUSweqcFvFiaiEAnIkRMyAQxaoqyRfWP5br2nVStkmwtJvFBBFEUXVGmhkTlzpnxedcgNYQ7d05iWV46LqtDdLJHxK6OPuqWeyRJRYtSEBEAnuSkJ36mzK/ef5K6fiTgx23IS0N/SQSmJhnJAvqUNmNWMJfeKMoWuf5SBGAP+ogIeg8fIgIiIGQmuYFfRAl89JGEWvgv6Nyz0MsAVfyGg6hCHxH09wJEoZw5M2i+JgS82Jw5M3CUuCX83/rKFfM+P+F+EBPV4czq44f6TsBsRJTlpbP61Wc9TKQtRUQAk6hvivL3Otzeu2Ep66/as6/iWdjFjI+Ph/1FWEfH1HtOOM2KzEgW7JAvxnA8iEJuI6JQklS1SoKIAHCrvXeovO6o44xOak4NrlciNZlsw7KXxxYlTPM6iRwgsjlOicxIFqDWCAA9ap6wdXSiUD0vrlCShFQeqQkAAADAZE3BIQAAAACkJgAAAABITQAAAIDdMM6UA7oHrI5rQOSkJzJffLB7wLqro6/77D9GZc4SrF2UggL/EBaOQ+bZExEVK+dj5D6wk3V0rLGjjxogTI0RDkvd55rW0229Q1Q1dgE/bm22yNPofgyDZTv13q6a1tNON04sdLKMsdewr2vQbc2AHesXYdoIMOw+zZeuRV/YEBECXiyWHwIWYskJ3G3kluWlVa1ys7wuLuiwvUm55iXULzbNgR5mXkP/sK2yweD2rsoGg6eFyAFCQXOgx20xOjZEhHV0zKmuBkDYWUfHaE7gjDVX9d4ut5Fb03raqYATUhMONylqcXxm0oLq/Sc9NV/r6Fj1/pP4pICxnGDnoV42R0T3gFW95wQ+KWAPNpzA+4dtbn9j0/zERWrCXhO1g8ZoEhfHy+0hfRkB3wsQRO29Q4gIAM41V697cd0AqQmbfyOOTHKDoKDv8UP3NSAiEBHA4qixBXxv8ELmir8bIDUBL+hHcWNKAiAiEBEAtEER5+8GIYmi9t6hXR199nSMfo4QeOJ1PiQzEyZz5syg6Y7DauO+2Nc1uOtYPzVlDhGBiAAffmePNXb0fe5wnHPnJBZlp2ACVABRQ3Ohk6mQSfR3g9hQ5CUlb7e5nporVs5TrpiHhuJXk8pIFrgd1TyxAiKfmVa1IS+N5kS8IS8NnxQ9zYGe6v09iIigRIQoge+pC5olEVGxEp9pEJTXHXX6Qm3vHdp5qPfw5hXol/LL2kUpNKnJ2kUpDLyGjGQBTYZUKElyLZE1JeipbnndUbd3Ve/vwURTf20tIT3Fodu54CH6PijzkH+U5aUxX+qKW/qHba55CSIiYDTNPuwRIeDFbi0mUYcwKNm8268x6+gYJkD5qyhb5KlNZiQLirJFDEXuaonbHq+c9MStxaTr7UEuuVbZYHA7R9meHO1Yv4hzH233gNVxXqKAH3ePJImxT9Q6Olay/Yhj30lGsmCHfDHDHZvdA9bKeoPjGv1bS3AW9uHH33sdNL+wORoR4b1i2z9sK687ioiI4Gz+7i0HaTb4TLmMc8fZ9fpUxizBhrx0xhptTetp9d4up1S+jPE+b/XeromitGNUKl+0KMXTL4ogpyZ3Vv0vzQB1AS/2a/W9nDsLu16forptmeyN7x6w2ov74vTHIYgIRARM8kvU+fd3OL5TJ6nk7TbXfiABL5bJ61PW0bHus5Z/JEZCll8Xiw36mw/4XnbyVPSsen8Pkyt34OTLUREWEfRXbJkcpYiIiNyQuTLJDdiG5vpUed3R+sdymXkZAl4sh66/Twn6m4+w/J1mNABNqVaAiKTec4ImnaL/sQvg25dIXCS9HZrRZlQfJM0QiGgW5NSE/noz52ZLttEWl+wftnmaPgMQkRFBX9Wx/dRFfOIQ0pDhXNR4LYT6OcoHM5Ca0C8LzrmJpvZCFAFvAFGOvs1zLyJQCBVCTJTApxlKQpVU4FTI4EuEBamJKIFfv3GJa9MR8GJ3rF8UeRNNBfw4tCGgkZOeuGP9Itd8naMRgZISwICqVRK35WEKJUk75Iu5FjJx+BIJf2pCDU+r37jEcW5toSSpfuMSLta+vIf2NYsS+BiLB165tn/uRkSEXZ8C1lKumLdj/SL7qGpRAr9i5Ty3WT6nQ8brt0zUCvLkYVaZfPUF6+jY3a8c8NRNvWP9IpyLgUOc6uWLEvhrF6X41XPTP2y7T9PiKSLqH8tFCT6IJP3DtsZjfW2nfhx0GEC9fPXerprW055+yX+mXIbjHEWpSbCqLzgVVrqe5UyUfUReAhzitl5+APkEIgKihKefpgHUI3EbfYWSpK3FJC6SujVVpVJFZJOS/aH172M/uE1Z1i5K8f3y3m233LSanH3hu9H+4RHqCXPSE//wcDZ+HQK3fvyVv9fh9q59XYPrcsU3xU7xNyLs2cm1M2wJiYiACPPbj/9yvM/sevvfx3648N2oXxdictITJbMEx88M2wuhPrH8jpfvv9P3uIs2kdlrEpH18gECRl8vvyhb5HYZC4Co1T1gvU/zJc0GXKyXzyGRmbKh+gKA721+HyorADiHzNAkNwCkJs5QfQEAEQEwiZCJtHr5SE3CDwOLABAvAIDUhEVQfQEAEQEQopBB1CA1CUSE1csHmCSaNi/gxVasnI9DBOAoI1lAM+mMc/XyOSdi65qg+gJl8nXnIDLs6xqsbDA4DSvJSBZsLSGj6iSLiAAfWUfHKhsMroPEo60eiXV0rLGjz3EZwgDqziE1ueGAqvecsM8iLpQkVaycF21n4aDUnYOIyder9/fYT7VF2aKq1QujaqAJIgL8pTnQY89lqQLK0dZUSt5ua3dZhD+AunNITYDwWmX/8LMFIc15ARARABGQmbmtIh3qekgoRRex1HtO0EwKVe/twiECRAQiAsCT/mGbp7yEIIjGY/1OQyaQmoB3qDsHgIgACFHIhLTuHFKTiIUqWwCICIBJhEzY6s4hNYlY9AOUUGULEBGICADaoIib5AZITcBZzpwZAd8LgIgAiPqQSZzkBkhNwFnFSroZbqg7B4gIRAQAjYxkAU3Jn5DWnUNqEsmtylNdoLK8NJpChwCICAAgCGJrMek2NEQJ/KrVktDtF3VNIpxTVdworP4JgIgAmAz13q7Gjj5qqLiAF1u0KKVqlSSke0RqEoYzY/upIWpgs4AXlzMHazFAtEeEfY6igBdXKElC6TMAGtbRsfZTFx3T68hbaQGpCdO5Z03raacby/LSQp2BAnAlIgS82KrVC4uyRTg4AG5T+fK6o/ZFoCg56Yk75IsjaZYZxpowp/FYv2teQhBETetp+0I/AFEeEdTSV6GrMgnAXdbRscp6g1NeQi0Opd5zIpLeKVIT5poUTdOhL6ENEHnae4cqGwyegqVk+xFEBIDL79heT1l747F+zYGeiHmnsVF4QrQvoihKmFYoSWKmE2xf1yDNqdY6OravaxCd2MC8fV2Djhetc+bMYCYidnX00afyiAhgp/5h28T5/Hoh1EJJEmPjBemjZldHX8SsihxFqYl1dKy87qjT4s6iBP4O+WIGGlb/8MgkNwCIrIiwISKAcxqP9Tt1clfv72FsvCB91HiNKQ6Jogs66j0nnM7C1GdZWW9A1zFEIUQEgF+6B6xuL75jvCBSkwC19w55ajrUgOdQvwCvBZ1Q8QmYpDnQQxMRNa29oX4BuXMQEcAl9EOgKhsMrok+w98jkRQy0ZKa0F+ia+8dCnVXWE56Ik21BlECHydiYE9E0N8bFEXZKTSDWjKSBYgIYBX68YLMRM3aRSk090bSYgvRkpqw4cI2zcVI1DUBVkUEAxetJwpdL3R7l4AXu7WExGcELAuZkUl+ywQjoRd5GgdWlC2KpMJrmDzMnEJJ0uFnC5waVkay4PCzBZFXyw/Al/PsZ8plTr2J1yJi8wqUSAZw6zPlMtefsluLya3FEZXNR8sMndw5ifQXApnpPRYl8D9TLusesFptE4Xq+XE4BUNY5KTTRQRjF1Oo1Nz+ShARwOaQ8fotw8wrKctLK1qU0n3Wcj2IZgkjqQ5sdKUmRdkp1ft7aD5pJl8MTr4Qdhvy0mhSE/pL2syf9AHYkJpkJAs8VTwT8GKLspmLGgEvNrKjJlou6IgS+J7yj4xkQcXK+Qg8iCqFkiRPBc0ykgWodQbgamsJ6al/omr1QixLGUTRtbxfe+9Qed1Rx1HWRdmiCLtEB+C7xmP9TtXiq1ZJyiJonD9AcLkWKhTwYus3LkFfOFKTICQo1B+ihGnIcwGn2si+aA0QdPbxgrgcidQEAAAAIh8mDwMAAABSEwAAAACkJgAAAIDUBAAAAACpCQAAAHDQ/w0AAP//eR+5OJKbWngAAAAASUVORK5CYII=\n",
      "text/plain": [
       "<IPython.core.display.Image object>"
      ]
     },
     "execution_count": 36,
     "metadata": {},
     "output_type": "execute_result"
    }
   ],
   "source": [
    "Image(\"SMOTE.png\")"
   ]
  },
  {
   "cell_type": "markdown",
   "metadata": {},
   "source": [
    "SMOTE algorithm works in 4 simple steps:\n",
    "\n",
    "Choose a minority class as the input vector\n",
    "Find its k nearest neighbors (k_neighbors is specified as an argument in the SMOTE() function)\n",
    "Choose one of these neighbors and place a synthetic point anywhere on the line joining the point under consideration and its chosen neighbor\n",
    "Repeat the steps until data is balanced"
   ]
  },
  {
   "cell_type": "code",
   "execution_count": 39,
   "metadata": {},
   "outputs": [
    {
     "name": "stdout",
     "output_type": "stream",
     "text": [
      "Original 0    549\n",
      "1    342\n",
      "Name: Survived, dtype: int64\n",
      "Sample 1    549\n",
      "0    549\n",
      "Name: Survived, dtype: int64\n"
     ]
    }
   ],
   "source": [
    "smote = SMOTE()\n",
    "x_smote, y_smote = smote.fit_resample(X, y)\n",
    "print('Original', y.value_counts())\n",
    "print('Sample', y_smote.value_counts())"
   ]
  },
  {
   "cell_type": "markdown",
   "metadata": {},
   "source": [
    "# 5. NearMiss\n",
    "\n",
    "* NearMiss is an under-sampling technique. \n",
    "* It aims to balance class distribution by randomly eliminating majority class examples. When instances of two different classes are very close to each other, we remove the instances of the majority class to increase the spaces between the two classes. \n",
    "* This helps in the classification process.\n",
    "* To prevent problem of information loss in most under-sampling techniques, near-neighbor methods are widely used.\n"
    "
READ NEXT

Latent Class Analysis: Voting Patterns In 32nd Dáil Éireann
Download our Mobile App

 

Consider a scenario where you have to classify between apples and oranges and 90% of your dataset contains apples. This leaves only 10% of the data to oranges and the model tends to get biased towards apples. This type of dataset is called an imbalanced dataset and affects the performance of the model. To overcome this, the near-miss algorithm can be applied to the dataset. 

In this article, we will learn about the near-miss algorithm, the different versions of it and implement the different versions on an imbalanced dataset. 


What is the Near-Miss Algorithm?
Near-miss is an algorithm that can help in balancing an imbalanced dataset. It can be grouped under undersampling algorithms and is an efficient way to balance the data. The algorithm does this by looking at the class distribution and randomly eliminating samples from the larger class. When two points belonging to different classes are very close to each other in the distribution, this algorithm eliminates the datapoint of the larger class thereby trying to balance the distribution. 

The steps taken by this algorithm are:

The algorithm first calculates the distance between all the points in the larger class with the points in the smaller class. This can make the process of undersampling easier. 
Select instances of the larger class that have the shortest distance with the smaller class. These n classes need to be stored for elimination. 
If there are m instances of the smaller class then the algorithm will return m*n instances of the larger class. \n"
   ]
  },
  {
   "cell_type": "code",
   "execution_count": 41,
   "metadata": {},
   "outputs": [
    {
     "name": "stdout",
     "output_type": "stream",
     "text": [
      "Original 0    549\n",
      "1    342\n",
      "Name: Survived, dtype: int64\n",
      "Sample 1    342\n",
      "0    342\n",
      "Name: Survived, dtype: int64\n"
     ]
    }
   ],
   "source": [
    "nearmiss = NearMiss()\n",
    "X_nearmiss, y_nearmiss = nearmiss.fit_sample(X, y)\n",
    "print('Original', y.value_counts())\n",
    "print('Sample', y_nearmiss.value_counts())"
   ]
  },
  {
   "cell_type": "markdown",
   "metadata": {},
   "source": [
    "# Collect more Data\n",
    " \n",
    "This is a definite thing you should try if you can. Getting more data with more positive examples is going to help your models get a more varied perspective of both the majority and minority classes.\n",
    "\n",
    " "
   ]
  },
  {
   "cell_type": "markdown",
   "metadata": {},
   "source": [
    "# Treat the problem as anomaly detection\n",
    " \n",
    "You might want to treat your classification problem as an anomaly detection problem.\n",
    "\n",
    "Anomaly detection is the identification of rare items, events or observations which raise suspicions by differing significantly from the majority of the data\n",
    "\n",
    "You can use Isolation forests or autoencoders for anomaly detection."
   ]
  },
  {
   "cell_type": "markdown",
   "metadata": {},
   "source": [
    "# Model-based\n",
    " \n",
    "Some models are particularly suited for imbalanced datasets.\n",
    "\n",
    "For example, in boosting models, we give more weights to the cases that get misclassified in each tree iteration.\n",
    "\n",
    " "
   ]
  }
 ],
 "metadata": {
  "kernelspec": {
   "display_name": "MallCustomer-Clustering",
   "language": "python",
   "name": "mallcustomer-clustering"
  },
  "language_info": {
   "codemirror_mode": {
    "name": "ipython",
    "version": 3
   },
   "file_extension": ".py",
   "mimetype": "text/x-python",
   "name": "python",
   "nbconvert_exporter": "python",
   "pygments_lexer": "ipython3",
   "version": "3.8.5"
  }
 },
 "nbformat": 4,
 "nbformat_minor": 4
}
